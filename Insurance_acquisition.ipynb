{
 "cells": [
  {
   "cell_type": "markdown",
   "metadata": {},
   "source": [
    "# Descripción"
   ]
  },
  {
   "cell_type": "markdown",
   "metadata": {},
   "source": [
    "La compañía de seguros Sure Tomorrow quiere resolver varias tareas con la ayuda de machine learning:\n",
    "\n",
    "- Objetivo 1: encontrar clientes que sean similares a un cliente determinado. Esto ayudará a los agentes de la compañía con el marketing.\n",
    "- Objetivo 2: predecir la probabilidad de que un nuevo cliente reciba una prestación del seguro. ¿Puede un modelo de predictivo funcionar mejor que un modelo dummy?\n",
    "- Objetivo 3: proteger los datos personales de los clientes sin afectar al modelo del ejercicio anterior. Es necesario desarrollar un algoritmo de transformación de datos que dificulte la recuperación de la información personal si los datos caen en manos equivocadas. Esto se denomina enmascaramiento u ofuscación de datos. Pero los datos deben protegerse de tal manera que no se vea afectada la calidad de los modelos de machine learning. No es necesario elegir el mejor modelo, basta con demostrar que el algoritmo funciona correctamente.\n"
   ]
  },
  {
   "cell_type": "markdown",
   "metadata": {},
   "source": [
    "# Preprocesamiento y exploración de datos\n",
    "\n",
    "## Inicialización"
   ]
  },
  {
   "cell_type": "code",
   "execution_count": 1,
   "metadata": {},
   "outputs": [],
   "source": [
    "#pip install scikit-learn --upgrade"
   ]
  },
  {
   "cell_type": "code",
   "execution_count": 2,
   "metadata": {},
   "outputs": [],
   "source": [
    "import numpy as np\n",
    "import matplotlib.pyplot as plt \n",
    "import math\n",
    "import pandas as pd\n",
    "\n",
    "import seaborn as sns\n",
    "\n",
    "import sklearn.linear_model\n",
    "import sklearn.metrics\n",
    "import sklearn.neighbors\n",
    "from sklearn.linear_model import LinearRegression\n",
    "from sklearn.metrics import mean_squared_error, r2_score\n",
    "from sklearn.neighbors import NearestNeighbors\n",
    "from sklearn.neighbors import KNeighborsClassifier\n",
    "from itertools import product\n",
    "\n",
    "from sklearn.preprocessing import MaxAbsScaler\n",
    "\n",
    "from sklearn.model_selection import train_test_split\n",
    "\n",
    "from IPython.display import display"
   ]
  },
  {
   "cell_type": "markdown",
   "metadata": {},
   "source": [
    "## Carga de datos"
   ]
  },
  {
   "cell_type": "markdown",
   "metadata": {},
   "source": [
    "Carga los datos y haz una revisión básica para comprobar que no hay problemas obvios."
   ]
  },
  {
   "cell_type": "code",
   "execution_count": 3,
   "metadata": {},
   "outputs": [],
   "source": [
    "df = pd.read_csv('/datasets/insurance_us.csv')"
   ]
  },
  {
   "cell_type": "markdown",
   "metadata": {},
   "source": [
    "Renombramos las columnas para que el código se vea más coherente con su estilo."
   ]
  },
  {
   "cell_type": "code",
   "execution_count": 4,
   "metadata": {},
   "outputs": [],
   "source": [
    "df = df.rename(columns={'Gender': 'gender', 'Age': 'age', 'Salary': 'income', 'Family members': 'family_members', 'Insurance benefits': 'insurance_benefits'})"
   ]
  },
  {
   "cell_type": "code",
   "execution_count": 5,
   "metadata": {},
   "outputs": [
    {
     "data": {
      "text/html": [
       "<div>\n",
       "<style scoped>\n",
       "    .dataframe tbody tr th:only-of-type {\n",
       "        vertical-align: middle;\n",
       "    }\n",
       "\n",
       "    .dataframe tbody tr th {\n",
       "        vertical-align: top;\n",
       "    }\n",
       "\n",
       "    .dataframe thead th {\n",
       "        text-align: right;\n",
       "    }\n",
       "</style>\n",
       "<table border=\"1\" class=\"dataframe\">\n",
       "  <thead>\n",
       "    <tr style=\"text-align: right;\">\n",
       "      <th></th>\n",
       "      <th>gender</th>\n",
       "      <th>age</th>\n",
       "      <th>income</th>\n",
       "      <th>family_members</th>\n",
       "      <th>insurance_benefits</th>\n",
       "    </tr>\n",
       "  </thead>\n",
       "  <tbody>\n",
       "    <tr>\n",
       "      <th>4874</th>\n",
       "      <td>0</td>\n",
       "      <td>30.0</td>\n",
       "      <td>42500.0</td>\n",
       "      <td>0</td>\n",
       "      <td>0</td>\n",
       "    </tr>\n",
       "    <tr>\n",
       "      <th>329</th>\n",
       "      <td>0</td>\n",
       "      <td>42.0</td>\n",
       "      <td>39500.0</td>\n",
       "      <td>2</td>\n",
       "      <td>0</td>\n",
       "    </tr>\n",
       "    <tr>\n",
       "      <th>2013</th>\n",
       "      <td>1</td>\n",
       "      <td>28.0</td>\n",
       "      <td>49200.0</td>\n",
       "      <td>0</td>\n",
       "      <td>0</td>\n",
       "    </tr>\n",
       "    <tr>\n",
       "      <th>3340</th>\n",
       "      <td>1</td>\n",
       "      <td>27.0</td>\n",
       "      <td>20400.0</td>\n",
       "      <td>4</td>\n",
       "      <td>0</td>\n",
       "    </tr>\n",
       "    <tr>\n",
       "      <th>2444</th>\n",
       "      <td>1</td>\n",
       "      <td>34.0</td>\n",
       "      <td>34800.0</td>\n",
       "      <td>1</td>\n",
       "      <td>0</td>\n",
       "    </tr>\n",
       "    <tr>\n",
       "      <th>1109</th>\n",
       "      <td>1</td>\n",
       "      <td>29.0</td>\n",
       "      <td>28900.0</td>\n",
       "      <td>0</td>\n",
       "      <td>0</td>\n",
       "    </tr>\n",
       "    <tr>\n",
       "      <th>1256</th>\n",
       "      <td>0</td>\n",
       "      <td>31.0</td>\n",
       "      <td>57000.0</td>\n",
       "      <td>0</td>\n",
       "      <td>0</td>\n",
       "    </tr>\n",
       "    <tr>\n",
       "      <th>466</th>\n",
       "      <td>0</td>\n",
       "      <td>33.0</td>\n",
       "      <td>25700.0</td>\n",
       "      <td>3</td>\n",
       "      <td>0</td>\n",
       "    </tr>\n",
       "    <tr>\n",
       "      <th>1598</th>\n",
       "      <td>0</td>\n",
       "      <td>28.0</td>\n",
       "      <td>39800.0</td>\n",
       "      <td>1</td>\n",
       "      <td>0</td>\n",
       "    </tr>\n",
       "    <tr>\n",
       "      <th>3020</th>\n",
       "      <td>0</td>\n",
       "      <td>40.0</td>\n",
       "      <td>45900.0</td>\n",
       "      <td>0</td>\n",
       "      <td>0</td>\n",
       "    </tr>\n",
       "    <tr>\n",
       "      <th>891</th>\n",
       "      <td>1</td>\n",
       "      <td>39.0</td>\n",
       "      <td>44900.0</td>\n",
       "      <td>1</td>\n",
       "      <td>0</td>\n",
       "    </tr>\n",
       "    <tr>\n",
       "      <th>2567</th>\n",
       "      <td>0</td>\n",
       "      <td>47.0</td>\n",
       "      <td>32800.0</td>\n",
       "      <td>0</td>\n",
       "      <td>1</td>\n",
       "    </tr>\n",
       "    <tr>\n",
       "      <th>2887</th>\n",
       "      <td>0</td>\n",
       "      <td>38.0</td>\n",
       "      <td>32900.0</td>\n",
       "      <td>0</td>\n",
       "      <td>0</td>\n",
       "    </tr>\n",
       "    <tr>\n",
       "      <th>2598</th>\n",
       "      <td>1</td>\n",
       "      <td>35.0</td>\n",
       "      <td>43500.0</td>\n",
       "      <td>0</td>\n",
       "      <td>0</td>\n",
       "    </tr>\n",
       "    <tr>\n",
       "      <th>4994</th>\n",
       "      <td>1</td>\n",
       "      <td>26.0</td>\n",
       "      <td>51400.0</td>\n",
       "      <td>0</td>\n",
       "      <td>0</td>\n",
       "    </tr>\n",
       "    <tr>\n",
       "      <th>4095</th>\n",
       "      <td>1</td>\n",
       "      <td>20.0</td>\n",
       "      <td>38600.0</td>\n",
       "      <td>2</td>\n",
       "      <td>0</td>\n",
       "    </tr>\n",
       "    <tr>\n",
       "      <th>3996</th>\n",
       "      <td>1</td>\n",
       "      <td>50.0</td>\n",
       "      <td>41100.0</td>\n",
       "      <td>1</td>\n",
       "      <td>2</td>\n",
       "    </tr>\n",
       "    <tr>\n",
       "      <th>3982</th>\n",
       "      <td>0</td>\n",
       "      <td>34.0</td>\n",
       "      <td>40600.0</td>\n",
       "      <td>0</td>\n",
       "      <td>0</td>\n",
       "    </tr>\n",
       "    <tr>\n",
       "      <th>4537</th>\n",
       "      <td>1</td>\n",
       "      <td>22.0</td>\n",
       "      <td>29800.0</td>\n",
       "      <td>2</td>\n",
       "      <td>0</td>\n",
       "    </tr>\n",
       "    <tr>\n",
       "      <th>4772</th>\n",
       "      <td>1</td>\n",
       "      <td>51.0</td>\n",
       "      <td>52000.0</td>\n",
       "      <td>2</td>\n",
       "      <td>2</td>\n",
       "    </tr>\n",
       "    <tr>\n",
       "      <th>3961</th>\n",
       "      <td>0</td>\n",
       "      <td>28.0</td>\n",
       "      <td>41500.0</td>\n",
       "      <td>1</td>\n",
       "      <td>0</td>\n",
       "    </tr>\n",
       "    <tr>\n",
       "      <th>744</th>\n",
       "      <td>1</td>\n",
       "      <td>50.0</td>\n",
       "      <td>51700.0</td>\n",
       "      <td>1</td>\n",
       "      <td>2</td>\n",
       "    </tr>\n",
       "    <tr>\n",
       "      <th>112</th>\n",
       "      <td>1</td>\n",
       "      <td>25.0</td>\n",
       "      <td>45000.0</td>\n",
       "      <td>1</td>\n",
       "      <td>0</td>\n",
       "    </tr>\n",
       "    <tr>\n",
       "      <th>4975</th>\n",
       "      <td>1</td>\n",
       "      <td>35.0</td>\n",
       "      <td>31100.0</td>\n",
       "      <td>0</td>\n",
       "      <td>0</td>\n",
       "    </tr>\n",
       "    <tr>\n",
       "      <th>3384</th>\n",
       "      <td>0</td>\n",
       "      <td>18.0</td>\n",
       "      <td>46200.0</td>\n",
       "      <td>1</td>\n",
       "      <td>0</td>\n",
       "    </tr>\n",
       "    <tr>\n",
       "      <th>3771</th>\n",
       "      <td>1</td>\n",
       "      <td>26.0</td>\n",
       "      <td>61500.0</td>\n",
       "      <td>2</td>\n",
       "      <td>0</td>\n",
       "    </tr>\n",
       "    <tr>\n",
       "      <th>1489</th>\n",
       "      <td>0</td>\n",
       "      <td>48.0</td>\n",
       "      <td>37800.0</td>\n",
       "      <td>0</td>\n",
       "      <td>1</td>\n",
       "    </tr>\n",
       "    <tr>\n",
       "      <th>953</th>\n",
       "      <td>1</td>\n",
       "      <td>18.0</td>\n",
       "      <td>38800.0</td>\n",
       "      <td>1</td>\n",
       "      <td>0</td>\n",
       "    </tr>\n",
       "    <tr>\n",
       "      <th>3679</th>\n",
       "      <td>0</td>\n",
       "      <td>44.0</td>\n",
       "      <td>28900.0</td>\n",
       "      <td>0</td>\n",
       "      <td>1</td>\n",
       "    </tr>\n",
       "    <tr>\n",
       "      <th>2618</th>\n",
       "      <td>0</td>\n",
       "      <td>31.0</td>\n",
       "      <td>53500.0</td>\n",
       "      <td>0</td>\n",
       "      <td>0</td>\n",
       "    </tr>\n",
       "    <tr>\n",
       "      <th>2014</th>\n",
       "      <td>0</td>\n",
       "      <td>21.0</td>\n",
       "      <td>37100.0</td>\n",
       "      <td>3</td>\n",
       "      <td>0</td>\n",
       "    </tr>\n",
       "    <tr>\n",
       "      <th>43</th>\n",
       "      <td>0</td>\n",
       "      <td>20.0</td>\n",
       "      <td>33100.0</td>\n",
       "      <td>1</td>\n",
       "      <td>0</td>\n",
       "    </tr>\n",
       "    <tr>\n",
       "      <th>4329</th>\n",
       "      <td>1</td>\n",
       "      <td>45.0</td>\n",
       "      <td>37700.0</td>\n",
       "      <td>1</td>\n",
       "      <td>1</td>\n",
       "    </tr>\n",
       "    <tr>\n",
       "      <th>4937</th>\n",
       "      <td>1</td>\n",
       "      <td>40.0</td>\n",
       "      <td>24100.0</td>\n",
       "      <td>2</td>\n",
       "      <td>0</td>\n",
       "    </tr>\n",
       "    <tr>\n",
       "      <th>2758</th>\n",
       "      <td>0</td>\n",
       "      <td>22.0</td>\n",
       "      <td>24500.0</td>\n",
       "      <td>0</td>\n",
       "      <td>0</td>\n",
       "    </tr>\n",
       "    <tr>\n",
       "      <th>2041</th>\n",
       "      <td>0</td>\n",
       "      <td>31.0</td>\n",
       "      <td>37800.0</td>\n",
       "      <td>1</td>\n",
       "      <td>0</td>\n",
       "    </tr>\n",
       "    <tr>\n",
       "      <th>3160</th>\n",
       "      <td>1</td>\n",
       "      <td>21.0</td>\n",
       "      <td>43500.0</td>\n",
       "      <td>1</td>\n",
       "      <td>0</td>\n",
       "    </tr>\n",
       "    <tr>\n",
       "      <th>4839</th>\n",
       "      <td>0</td>\n",
       "      <td>24.0</td>\n",
       "      <td>35700.0</td>\n",
       "      <td>1</td>\n",
       "      <td>0</td>\n",
       "    </tr>\n",
       "    <tr>\n",
       "      <th>3068</th>\n",
       "      <td>1</td>\n",
       "      <td>34.0</td>\n",
       "      <td>35800.0</td>\n",
       "      <td>0</td>\n",
       "      <td>0</td>\n",
       "    </tr>\n",
       "    <tr>\n",
       "      <th>4378</th>\n",
       "      <td>0</td>\n",
       "      <td>46.0</td>\n",
       "      <td>37100.0</td>\n",
       "      <td>0</td>\n",
       "      <td>1</td>\n",
       "    </tr>\n",
       "  </tbody>\n",
       "</table>\n",
       "</div>"
      ],
      "text/plain": [
       "      gender   age   income  family_members  insurance_benefits\n",
       "4874       0  30.0  42500.0               0                   0\n",
       "329        0  42.0  39500.0               2                   0\n",
       "2013       1  28.0  49200.0               0                   0\n",
       "3340       1  27.0  20400.0               4                   0\n",
       "2444       1  34.0  34800.0               1                   0\n",
       "1109       1  29.0  28900.0               0                   0\n",
       "1256       0  31.0  57000.0               0                   0\n",
       "466        0  33.0  25700.0               3                   0\n",
       "1598       0  28.0  39800.0               1                   0\n",
       "3020       0  40.0  45900.0               0                   0\n",
       "891        1  39.0  44900.0               1                   0\n",
       "2567       0  47.0  32800.0               0                   1\n",
       "2887       0  38.0  32900.0               0                   0\n",
       "2598       1  35.0  43500.0               0                   0\n",
       "4994       1  26.0  51400.0               0                   0\n",
       "4095       1  20.0  38600.0               2                   0\n",
       "3996       1  50.0  41100.0               1                   2\n",
       "3982       0  34.0  40600.0               0                   0\n",
       "4537       1  22.0  29800.0               2                   0\n",
       "4772       1  51.0  52000.0               2                   2\n",
       "3961       0  28.0  41500.0               1                   0\n",
       "744        1  50.0  51700.0               1                   2\n",
       "112        1  25.0  45000.0               1                   0\n",
       "4975       1  35.0  31100.0               0                   0\n",
       "3384       0  18.0  46200.0               1                   0\n",
       "3771       1  26.0  61500.0               2                   0\n",
       "1489       0  48.0  37800.0               0                   1\n",
       "953        1  18.0  38800.0               1                   0\n",
       "3679       0  44.0  28900.0               0                   1\n",
       "2618       0  31.0  53500.0               0                   0\n",
       "2014       0  21.0  37100.0               3                   0\n",
       "43         0  20.0  33100.0               1                   0\n",
       "4329       1  45.0  37700.0               1                   1\n",
       "4937       1  40.0  24100.0               2                   0\n",
       "2758       0  22.0  24500.0               0                   0\n",
       "2041       0  31.0  37800.0               1                   0\n",
       "3160       1  21.0  43500.0               1                   0\n",
       "4839       0  24.0  35700.0               1                   0\n",
       "3068       1  34.0  35800.0               0                   0\n",
       "4378       0  46.0  37100.0               0                   1"
      ]
     },
     "execution_count": 5,
     "metadata": {},
     "output_type": "execute_result"
    }
   ],
   "source": [
    "df.sample(40)"
   ]
  },
  {
   "cell_type": "code",
   "execution_count": 6,
   "metadata": {},
   "outputs": [
    {
     "name": "stdout",
     "output_type": "stream",
     "text": [
      "<class 'pandas.core.frame.DataFrame'>\n",
      "RangeIndex: 5000 entries, 0 to 4999\n",
      "Data columns (total 5 columns):\n",
      " #   Column              Non-Null Count  Dtype  \n",
      "---  ------              --------------  -----  \n",
      " 0   gender              5000 non-null   int64  \n",
      " 1   age                 5000 non-null   float64\n",
      " 2   income              5000 non-null   float64\n",
      " 3   family_members      5000 non-null   int64  \n",
      " 4   insurance_benefits  5000 non-null   int64  \n",
      "dtypes: float64(2), int64(3)\n",
      "memory usage: 195.4 KB\n"
     ]
    }
   ],
   "source": [
    "df.info()"
   ]
  },
  {
   "cell_type": "code",
   "execution_count": 7,
   "metadata": {},
   "outputs": [],
   "source": [
    "# puede que queramos cambiar el tipo de edad (de float a int) aunque esto no es crucial\n",
    "\n",
    "df['age'] = df['age'].astype(int)# escribe tu conversión aquí si lo deseas:"
   ]
  },
  {
   "cell_type": "code",
   "execution_count": 8,
   "metadata": {},
   "outputs": [
    {
     "name": "stdout",
     "output_type": "stream",
     "text": [
      "<class 'pandas.core.frame.DataFrame'>\n",
      "RangeIndex: 5000 entries, 0 to 4999\n",
      "Data columns (total 5 columns):\n",
      " #   Column              Non-Null Count  Dtype  \n",
      "---  ------              --------------  -----  \n",
      " 0   gender              5000 non-null   int64  \n",
      " 1   age                 5000 non-null   int64  \n",
      " 2   income              5000 non-null   float64\n",
      " 3   family_members      5000 non-null   int64  \n",
      " 4   insurance_benefits  5000 non-null   int64  \n",
      "dtypes: float64(1), int64(4)\n",
      "memory usage: 195.4 KB\n"
     ]
    }
   ],
   "source": [
    "df.info()# comprueba que la conversión se haya realizado con éxito"
   ]
  },
  {
   "cell_type": "code",
   "execution_count": 9,
   "metadata": {},
   "outputs": [
    {
     "data": {
      "text/plain": [
       "153"
      ]
     },
     "execution_count": 9,
     "metadata": {},
     "output_type": "execute_result"
    }
   ],
   "source": [
    "df.duplicated().sum() #La cantidad de usuarios duplicados es muy baja, esto puede ser por que es muy posible que\n",
    "# mas de una persona tenga el mismo género, la misma edad, el mismo salario, la misma cantidad de familiares y \n",
    "#la misma cantidad de beneficios de seguro, así que no serán eliminados."
   ]
  },
  {
   "cell_type": "code",
   "execution_count": 10,
   "metadata": {},
   "outputs": [
    {
     "data": {
      "text/plain": [
       "19    223\n",
       "25    214\n",
       "31    212\n",
       "26    211\n",
       "22    209\n",
       "Name: age, dtype: int64"
      ]
     },
     "execution_count": 10,
     "metadata": {},
     "output_type": "execute_result"
    }
   ],
   "source": [
    "df['age'].value_counts(dropna=False).nlargest() #La categoría de edad que más clientes tiene es 19 "
   ]
  },
  {
   "cell_type": "code",
   "execution_count": 11,
   "metadata": {},
   "outputs": [
    {
     "data": {
      "text/plain": [
       "0    2505\n",
       "1    2495\n",
       "Name: gender, dtype: int64"
      ]
     },
     "execution_count": 11,
     "metadata": {},
     "output_type": "execute_result"
    }
   ],
   "source": [
    "df['gender'].value_counts() # La cantidad de usuarios en la categoría 0 es ligeramente superior a la cantidad de \n",
    "#usuarios en la categoría 1"
   ]
  },
  {
   "cell_type": "code",
   "execution_count": 12,
   "metadata": {},
   "outputs": [
    {
     "data": {
      "text/plain": [
       "0    4436\n",
       "1     423\n",
       "2     115\n",
       "3      18\n",
       "4       7\n",
       "5       1\n",
       "Name: insurance_benefits, dtype: int64"
      ]
     },
     "execution_count": 12,
     "metadata": {},
     "output_type": "execute_result"
    }
   ],
   "source": [
    "df['insurance_benefits'].value_counts() # La mayoría de los usuarios no tiene beneficios de seguro"
   ]
  },
  {
   "cell_type": "code",
   "execution_count": 13,
   "metadata": {},
   "outputs": [
    {
     "name": "stdout",
     "output_type": "stream",
     "text": [
      "               age        income  family_members\n",
      "count  5000.000000   5000.000000     5000.000000\n",
      "mean     30.952800  39916.360000        1.194200\n",
      "std       8.440807   9900.083569        1.091387\n",
      "min      18.000000   5300.000000        0.000000\n",
      "25%      24.000000  33300.000000        0.000000\n",
      "50%      30.000000  40200.000000        1.000000\n",
      "75%      37.000000  46600.000000        2.000000\n",
      "max      65.000000  79000.000000        6.000000\n"
     ]
    }
   ],
   "source": [
    "print(df[['age', 'income', 'family_members']].describe())"
   ]
  },
  {
   "cell_type": "code",
   "execution_count": 14,
   "metadata": {},
   "outputs": [
    {
     "data": {
      "image/png": "[encoded data removed]",
      "text/plain": [
       "<Figure size 1500x400 with 2 Axes>"
      ]
     },
     "metadata": {},
     "output_type": "display_data"
    }
   ],
   "source": [
    "#Estadistica descriptiva para variables categoricas:\n",
    "cols = ['gender', 'income']\n",
    "fig, axes = plt.subplots(1,len(cols), figsize=(15,4))\n",
    "sns.countplot(x=df['gender'], data=df, ax=axes[0], color='c')\n",
    "sns.boxplot(x=df['income'], ax=axes[1],  color='m')\n",
    "\n",
    "axes[0].set_title('gender')\n",
    "axes[1].set_title('income')\n",
    "\n",
    "plt.show()"
   ]
  },
  {
   "cell_type": "code",
   "execution_count": 15,
   "metadata": {},
   "outputs": [
    {
     "data": {
      "image/png": "[encoded data removed]",
      "text/plain": [
       "<Figure size 1500x400 with 3 Axes>"
      ]
     },
     "metadata": {},
     "output_type": "display_data"
    }
   ],
   "source": [
    "#estadistica descriptiva para variables numericas:\n",
    "columns = ['age', 'income', 'family_members'] # ahora echa un vistazo a las estadísticas descriptivas de los datos.# ¿Se ve todo bien?\n",
    "fig, axes = plt.subplots(1,len(columns), figsize=(15,4))\n",
    "\n",
    "\n",
    "sns.histplot(df['age'], ax=axes[0], kde=True, bins=60, color='c')\n",
    "sns.histplot(df['income'], ax=axes[1], kde=True, color='m')\n",
    "sns.histplot(df['family_members'], ax=axes[2], kde=True, color='b')\n",
    "\n",
    "\n",
    "fig.suptitle('Data distribution (gender, age, income, family members, insurance benefits)', y = 0.96)\n",
    "\n",
    "axes[0].set_title('age')\n",
    "axes[1].set_title('income')\n",
    "axes[2].set_title('family_members')\n",
    "\n",
    "\n",
    "\n",
    "plt.tight_layout()\n",
    "plt.show()\n",
    "\n",
    "\n"
   ]
  },
  {
   "cell_type": "markdown",
   "metadata": {},
   "source": [
    "## Análisis exploratorio de datos"
   ]
  },
  {
   "cell_type": "markdown",
   "metadata": {},
   "source": [
    "Vamos a comprobar rápidamente si existen determinados grupos de clientes observando el gráfico de pares."
   ]
  },
  {
   "cell_type": "code",
   "execution_count": 16,
   "metadata": {},
   "outputs": [
    {
     "data": {
      "image/png": "[encoded data removed]",
      "text/plain": [
       "<Figure size 1200x1200 with 30 Axes>"
      ]
     },
     "metadata": {},
     "output_type": "display_data"
    }
   ],
   "source": [
    "g = sns.pairplot(df, kind='hist')\n",
    "g.fig.set_size_inches(12, 12)"
   ]
  },
  {
   "cell_type": "markdown",
   "metadata": {},
   "source": [
    "De acuerdo, es un poco complicado detectar grupos obvios (clústeres) ya que es difícil combinar diversas variables simultáneamente (para analizar distribuciones multivariadas). Ahí es donde LA y ML pueden ser bastante útiles."
   ]
  },
  {
   "cell_type": "markdown",
   "metadata": {},
   "source": [
    "# Objetivo 1. Clientes similares"
   ]
  },
  {
   "cell_type": "markdown",
   "metadata": {},
   "source": [
    "En el lenguaje de ML, es necesario desarrollar un procedimiento que devuelva los k vecinos más cercanos (objetos) para un objeto dado basándose en la distancia entre los objetos.\n",
    "Es posible que quieras revisar las siguientes lecciones (capítulo -> lección)- Distancia entre vectores -> Distancia euclidiana\n",
    "- Distancia entre vectores -> Distancia Manhattan\n",
    "\n",
    "Para resolver la tarea, podemos probar diferentes métricas de distancia."
   ]
  },
  {
   "cell_type": "markdown",
   "metadata": {},
   "source": [
    "Escribe una función que devuelva los k vecinos más cercanos para un $n^{th}$ objeto basándose en una métrica de distancia especificada. A la hora de realizar esta tarea no debe tenerse en cuenta el número de prestaciones de seguro recibidas.\n",
    "Puedes utilizar una implementación ya existente del algoritmo kNN de scikit-learn (consulta [el enlace](https://scikit-learn.org/stable/modules/generated/sklearn.neighbors.NearestNeighbors.html#sklearn.neighbors.NearestNeighbors)) o tu propia implementación.\n",
    "Pruébalo para cuatro combinaciones de dos casos- Escalado\n",
    "  - los datos no están escalados\n",
    "  - los datos se escalan con el escalador [MaxAbsScaler](https://scikit-learn.org/stable/modules/generated/sklearn.preprocessing.MaxAbsScaler.html)\n",
    "- Métricas de distancia\n",
    "  - Euclidiana\n",
    "  - Manhattan\n",
    "\n",
    "Responde a estas preguntas:- ¿El hecho de que los datos no estén escalados afecta al algoritmo kNN? Si es así, ¿cómo se manifiesta?- ¿Qué tan similares son los resultados al utilizar la métrica de distancia Manhattan (independientemente del escalado)?"
   ]
  },
  {
   "cell_type": "code",
   "execution_count": 17,
   "metadata": {},
   "outputs": [],
   "source": [
    "feature_names = ['gender', 'age', 'income', 'family_members']"
   ]
  },
  {
   "cell_type": "code",
   "execution_count": 18,
   "metadata": {},
   "outputs": [],
   "source": [
    "def get_knn(df, n, k, metric, scale=False):\n",
    "    \n",
    "    \"\"\"\n",
    "    Devuelve los k vecinos más cercanos\n",
    "\n",
    "    :param df: DataFrame de pandas utilizado para encontrar objetos similares dentro del mismo lugar    \n",
    "    :param n: número de objetos para los que se buscan los vecinos más cercanos    \n",
    "    :param k: número de vecinos más cercanos a devolver\n",
    "    :param métrica: nombre de la métrica de distancia    \"\"\"\n",
    "\n",
    "    if scale:\n",
    "        scaler = MaxAbsScaler\n",
    "        df_scaled = df[feature_names].copy()\n",
    "        df_scaled[feature_names] = scaler.fit_transform(df[feature_names])\n",
    "    else:\n",
    "        df_scaled = df.copy()\n",
    "    \n",
    "    nbrs = NearestNeighbors(n_neighbors=k, metric=metric)\n",
    "    nbrs.fit(df_scaled[feature_names])\n",
    "    nbrs_distances, nbrs_indices = nbrs.kneighbors([df_scaled.iloc[n][feature_names]], k, return_distance=True)\n",
    "    \n",
    "    df_res = pd.concat([\n",
    "        df.iloc[nbrs_indices[0]], \n",
    "        pd.DataFrame(nbrs_distances.T, index=nbrs_indices[0], columns=['distance'])\n",
    "        ], axis=1)\n",
    "    \n",
    "    return df_res # <tu código aquí> \n"
   ]
  },
  {
   "cell_type": "markdown",
   "metadata": {},
   "source": [
    "Escalar datos."
   ]
  },
  {
   "cell_type": "code",
   "execution_count": 19,
   "metadata": {},
   "outputs": [],
   "source": [
    "feature_names = ['gender', 'age', 'income', 'family_members']\n",
    "\n",
    "transformer_mas = sklearn.preprocessing.MaxAbsScaler().fit(df[feature_names].to_numpy())\n",
    "\n",
    "df_scaled = df.copy()\n",
    "df_scaled.loc[:, feature_names] = transformer_mas.transform(df[feature_names].to_numpy())"
   ]
  },
  {
   "cell_type": "code",
   "execution_count": 20,
   "metadata": {},
   "outputs": [
    {
     "data": {
      "text/html": [
       "<div>\n",
       "<style scoped>\n",
       "    .dataframe tbody tr th:only-of-type {\n",
       "        vertical-align: middle;\n",
       "    }\n",
       "\n",
       "    .dataframe tbody tr th {\n",
       "        vertical-align: top;\n",
       "    }\n",
       "\n",
       "    .dataframe thead th {\n",
       "        text-align: right;\n",
       "    }\n",
       "</style>\n",
       "<table border=\"1\" class=\"dataframe\">\n",
       "  <thead>\n",
       "    <tr style=\"text-align: right;\">\n",
       "      <th></th>\n",
       "      <th>gender</th>\n",
       "      <th>age</th>\n",
       "      <th>income</th>\n",
       "      <th>family_members</th>\n",
       "      <th>insurance_benefits</th>\n",
       "    </tr>\n",
       "  </thead>\n",
       "  <tbody>\n",
       "    <tr>\n",
       "      <th>4689</th>\n",
       "      <td>0.0</td>\n",
       "      <td>0.630769</td>\n",
       "      <td>0.505063</td>\n",
       "      <td>0.000000</td>\n",
       "      <td>0</td>\n",
       "    </tr>\n",
       "    <tr>\n",
       "      <th>4309</th>\n",
       "      <td>1.0</td>\n",
       "      <td>0.507692</td>\n",
       "      <td>0.569620</td>\n",
       "      <td>0.000000</td>\n",
       "      <td>0</td>\n",
       "    </tr>\n",
       "    <tr>\n",
       "      <th>3464</th>\n",
       "      <td>0.0</td>\n",
       "      <td>0.676923</td>\n",
       "      <td>0.591139</td>\n",
       "      <td>0.166667</td>\n",
       "      <td>1</td>\n",
       "    </tr>\n",
       "    <tr>\n",
       "      <th>225</th>\n",
       "      <td>0.0</td>\n",
       "      <td>0.553846</td>\n",
       "      <td>0.570886</td>\n",
       "      <td>0.166667</td>\n",
       "      <td>0</td>\n",
       "    </tr>\n",
       "    <tr>\n",
       "      <th>2747</th>\n",
       "      <td>1.0</td>\n",
       "      <td>0.476923</td>\n",
       "      <td>0.500000</td>\n",
       "      <td>0.000000</td>\n",
       "      <td>0</td>\n",
       "    </tr>\n",
       "  </tbody>\n",
       "</table>\n",
       "</div>"
      ],
      "text/plain": [
       "      gender       age    income  family_members  insurance_benefits\n",
       "4689     0.0  0.630769  0.505063        0.000000                   0\n",
       "4309     1.0  0.507692  0.569620        0.000000                   0\n",
       "3464     0.0  0.676923  0.591139        0.166667                   1\n",
       "225      0.0  0.553846  0.570886        0.166667                   0\n",
       "2747     1.0  0.476923  0.500000        0.000000                   0"
      ]
     },
     "execution_count": 20,
     "metadata": {},
     "output_type": "execute_result"
    }
   ],
   "source": [
    "df_scaled.sample(5)"
   ]
  },
  {
   "cell_type": "markdown",
   "metadata": {},
   "source": [
    "Ahora, vamos a obtener registros similares para uno determinado, para cada combinación"
   ]
  },
  {
   "cell_type": "code",
   "execution_count": 21,
   "metadata": {},
   "outputs": [
    {
     "name": "stdout",
     "output_type": "stream",
     "text": [
      "      gender  age   income  family_members  insurance_benefits  distance\n",
      "0          1   41  49600.0               1                   0  0.000000\n",
      "2022       1   41  49600.0               0                   0  1.000000\n",
      "1225       0   42  49600.0               0                   1  1.732051\n",
      "4031       1   44  49600.0               2                   1  3.162278\n",
      "3424       0   38  49600.0               0                   0  3.316625\n"
     ]
    }
   ],
   "source": [
    "df_euclidean_scaled = get_knn(df, n=0, k=5, metric='euclidean')\n",
    "print(df_euclidean_scaled)"
   ]
  },
  {
   "cell_type": "code",
   "execution_count": 22,
   "metadata": {},
   "outputs": [
    {
     "name": "stdout",
     "output_type": "stream",
     "text": [
      "      gender  age   income  family_members  insurance_benefits  distance\n",
      "0          1   41  49600.0               1                   0  0.000000\n",
      "2022       1   41  49600.0               0                   0  1.000000\n",
      "1225       0   42  49600.0               0                   1  1.732051\n",
      "4031       1   44  49600.0               2                   1  3.162278\n",
      "3424       0   38  49600.0               0                   0  3.316625\n"
     ]
    }
   ],
   "source": [
    "df_euclidean = get_knn(df, n=0, k=5, metric='euclidean', scale=False)\n",
    "print(df_euclidean)"
   ]
  },
  {
   "cell_type": "code",
   "execution_count": 23,
   "metadata": {},
   "outputs": [
    {
     "name": "stdout",
     "output_type": "stream",
     "text": [
      "      gender  age   income  family_members  insurance_benefits  distance\n",
      "0          1   41  49600.0               1                   0       0.0\n",
      "2022       1   41  49600.0               0                   0       1.0\n",
      "1225       0   42  49600.0               0                   1       3.0\n",
      "4031       1   44  49600.0               2                   1       4.0\n",
      "3424       0   38  49600.0               0                   0       5.0\n"
     ]
    }
   ],
   "source": [
    "df_manhattan_scaled = get_knn(df, n=0, k=5, metric='manhattan')\n",
    "print(df_manhattan_scaled)"
   ]
  },
  {
   "cell_type": "code",
   "execution_count": 24,
   "metadata": {},
   "outputs": [
    {
     "name": "stdout",
     "output_type": "stream",
     "text": [
      "      gender  age   income  family_members  insurance_benefits  distance\n",
      "0          1   41  49600.0               1                   0       0.0\n",
      "2022       1   41  49600.0               0                   0       1.0\n",
      "1225       0   42  49600.0               0                   1       3.0\n",
      "4031       1   44  49600.0               2                   1       4.0\n",
      "3424       0   38  49600.0               0                   0       5.0\n"
     ]
    }
   ],
   "source": [
    "df_manhattan = get_knn(df, n=0, k=5, metric='manhattan', scale=False)\n",
    "print(df_manhattan)"
   ]
  },
  {
   "cell_type": "markdown",
   "metadata": {},
   "source": [
    "Respuestas a las preguntas"
   ]
  },
  {
   "cell_type": "markdown",
   "metadata": {},
   "source": [
    "**¿El hecho de que los datos no estén escalados afecta al algoritmo kNN? Si es así, ¿cómo se manifiesta?** \n",
    "\n",
    "Sí afecta, tanto la metrica Euclideana como la Manhattan son sensibles a la escala de las variables, las caracteristicas con mayores órdenes de magnitud podrian dominar nen los cálculos de distancia, o sesgar los datos, lo cual resulta en una baja presición en la predicción de los datos más cercanos. En este caso no hubo diferencias "
   ]
  },
  {
   "cell_type": "markdown",
   "metadata": {},
   "source": [
    "**¿Qué tan similares son los resultados al utilizar la métrica de distancia Manhattan (independientemente del escalado)?** \n",
    "\n",
    "La métrica Manhattan, a diferencia de la Euclidiana, considera la distancia absoluta entre los puntos en cada dimensión lo cual da datos un poco más robustos, sobre todo si las magnitudes no son muy distintas. "
   ]
  },
  {
   "cell_type": "markdown",
   "metadata": {},
   "source": [
    "# Objetivo 2. ¿Es probable que el cliente reciba una prestación del seguro?"
   ]
  },
  {
   "cell_type": "markdown",
   "metadata": {},
   "source": [
    "En términos de machine learning podemos considerarlo como una tarea de clasificación binaria."
   ]
  },
  {
   "cell_type": "markdown",
   "metadata": {},
   "source": [
    "Con el valor de `insurance_benefits` superior a cero como objetivo, evalúa si el enfoque de clasificación kNN puede funcionar mejor que el modelo dummy.\n",
    "Instrucciones:\n",
    "- Construye un clasificador basado en KNN y mide su calidad con la métrica F1 para k=1...10 tanto para los datos originales como para los escalados. Sería interesante observar cómo k puede influir en la métrica de evaluación y si el escalado de los datos provoca alguna diferencia. Puedes utilizar una implementación ya existente del algoritmo de clasificación kNN de scikit-learn (consulta [el enlace](https://scikit-learn.org/stable/modules/generated/sklearn.neighbors.KNeighborsClassifier.html)) o tu propia implementación.- Construye un modelo dummy que, en este caso, es simplemente un modelo aleatorio. Debería devolver \"1\" con cierta probabilidad. Probemos el modelo con cuatro valores de probabilidad: 0, la probabilidad de pagar cualquier prestación del seguro, 0.5, 1.\n",
    "La probabilidad de pagar cualquier prestación del seguro puede definirse como\n",
    "$$\n",
    "P\\{\\text{prestación de seguro recibida}\\}=\\frac{\\text{número de clientes que han recibido alguna prestación de seguro}}{\\text{número total de clientes}}.\n",
    "$$\n",
    "\n",
    "Divide todos los datos correspondientes a las etapas de entrenamiento/prueba respetando la proporción 70:30."
   ]
  },
  {
   "cell_type": "code",
   "execution_count": 25,
   "metadata": {},
   "outputs": [],
   "source": [
    "# сalcula el objetivo\n",
    "df['insurance_benefits_received'] = (df['insurance_benefits'] > 0).astype(int) #<tu código aquí>\n",
    "df_scaled['insurance_benefits_received'] = (df_scaled['insurance_benefits'] > 0).astype(int)"
   ]
  },
  {
   "cell_type": "code",
   "execution_count": 26,
   "metadata": {},
   "outputs": [
    {
     "name": "stdout",
     "output_type": "stream",
     "text": [
      "0    4436\n",
      "1     423\n",
      "2     115\n",
      "3      18\n",
      "4       7\n",
      "5       1\n",
      "Name: insurance_benefits, dtype: int64\n",
      "0    4436\n",
      "1     564\n",
      "Name: insurance_benefits_received, dtype: int64\n"
     ]
    },
    {
     "data": {
      "image/png": "[encoded data removed]",
      "text/plain": [
       "<Figure size 640x480 with 1 Axes>"
      ]
     },
     "metadata": {},
     "output_type": "display_data"
    }
   ],
   "source": [
    "# comprueba el desequilibrio de clases con value_counts()\n",
    "print(df['insurance_benefits'].value_counts()) # este es el total de usuarios y su respectiva cantidad de beneficios \n",
    "print(df['insurance_benefits_received'].value_counts()) #este el la cantidad de usuarios sin beneficios (0) vs usuarios con al menos un beneficio (1) \n",
    "# <tu código aquí>\n",
    "sns.countplot(x=df['insurance_benefits_received'], data=df)\n",
    "plt.show()"
   ]
  },
  {
   "cell_type": "code",
   "execution_count": 27,
   "metadata": {},
   "outputs": [],
   "source": [
    "X = df[['gender', 'age', 'income', 'family_members']] \n",
    "y = df['insurance_benefits_received']\n",
    "X_scaled = df_scaled[['gender', 'age', 'income', 'family_members']]\n",
    "y_scaled = df_scaled['insurance_benefits_received']"
   ]
  },
  {
   "cell_type": "code",
   "execution_count": 28,
   "metadata": {},
   "outputs": [],
   "source": [
    "X_train, X_test, y_train, y_test = train_test_split(X, y, test_size=0.30, random_state=1234)\n",
    "X_train_scaled, X_test_scaled, y_train_scaled, y_test_scaled = train_test_split(X, y, test_size=0.30, random_state=1234)\n",
    "# Código para dividir los datos en proporción 70:30"
   ]
  },
  {
   "cell_type": "code",
   "execution_count": 29,
   "metadata": {},
   "outputs": [],
   "source": [
    "def eval_classifier(y_true, y_pred):\n",
    "    \n",
    "    f1_score = sklearn.metrics.f1_score(y_true, y_pred)\n",
    "    print(f'F1: {f1_score:.2f}')\n",
    "# si tienes algún problema con la siguiente línea, reinicia el kernel y ejecuta el cuaderno de nuevo    \n",
    "    cm = sklearn.metrics.confusion_matrix(y_true, y_pred, normalize='all')\n",
    "    print('Matriz de confusión')\n",
    "    print(cm)"
   ]
  },
  {
   "cell_type": "code",
   "execution_count": 30,
   "metadata": {},
   "outputs": [],
   "source": [
    "# generar la salida de un modelo aleatorio\n",
    "\n",
    "def rnd_model_predict(P, size, seed=42):\n",
    "\n",
    "    rng = np.random.default_rng(seed=seed)\n",
    "    return rng.binomial(n=1, p=P, size=size)"
   ]
  },
  {
   "cell_type": "code",
   "execution_count": 31,
   "metadata": {},
   "outputs": [
    {
     "name": "stdout",
     "output_type": "stream",
     "text": [
      "Evaluando KNN con k=1 (sin escalar):\n",
      "F1: 0.63\n",
      "Matriz de confusión\n",
      "[[0.85933333 0.02533333]\n",
      " [0.05066667 0.06466667]]\n",
      "Evaluando KNN con k=1 (escalado):\n",
      "F1: 0.63\n",
      "Matriz de confusión\n",
      "[[0.85933333 0.02533333]\n",
      " [0.05066667 0.06466667]]\n",
      "Evaluando KNN con k=2 (sin escalar):\n",
      "F1: 0.38\n",
      "Matriz de confusión\n",
      "[[0.87666667 0.008     ]\n",
      " [0.08666667 0.02866667]]\n",
      "Evaluando KNN con k=2 (escalado):\n",
      "F1: 0.38\n",
      "Matriz de confusión\n",
      "[[0.87666667 0.008     ]\n",
      " [0.08666667 0.02866667]]\n",
      "Evaluando KNN con k=3 (sin escalar):\n",
      "F1: 0.41\n",
      "Matriz de confusión\n",
      "[[0.87333333 0.01133333]\n",
      " [0.08266667 0.03266667]]\n",
      "Evaluando KNN con k=3 (escalado):\n",
      "F1: 0.41\n",
      "Matriz de confusión\n",
      "[[0.87333333 0.01133333]\n",
      " [0.08266667 0.03266667]]\n",
      "Evaluando KNN con k=4 (sin escalar):\n",
      "F1: 0.21\n",
      "Matriz de confusión\n",
      "[[0.882      0.00266667]\n",
      " [0.10133333 0.014     ]]\n",
      "Evaluando KNN con k=4 (escalado):\n",
      "F1: 0.21\n",
      "Matriz de confusión\n",
      "[[0.882      0.00266667]\n",
      " [0.10133333 0.014     ]]\n",
      "Evaluando KNN con k=5 (sin escalar):\n",
      "F1: 0.21\n",
      "Matriz de confusión\n",
      "[[0.87933333 0.00533333]\n",
      " [0.10133333 0.014     ]]\n",
      "Evaluando KNN con k=5 (escalado):\n",
      "F1: 0.21\n",
      "Matriz de confusión\n",
      "[[0.87933333 0.00533333]\n",
      " [0.10133333 0.014     ]]\n",
      "Evaluando KNN con k=6 (sin escalar):\n",
      "F1: 0.11\n",
      "Matriz de confusión\n",
      "[[0.88333333 0.00133333]\n",
      " [0.10866667 0.00666667]]\n",
      "Evaluando KNN con k=6 (escalado):\n",
      "F1: 0.11\n",
      "Matriz de confusión\n",
      "[[0.88333333 0.00133333]\n",
      " [0.10866667 0.00666667]]\n",
      "Evaluando KNN con k=7 (sin escalar):\n",
      "F1: 0.11\n",
      "Matriz de confusión\n",
      "[[0.88133333 0.00333333]\n",
      " [0.10866667 0.00666667]]\n",
      "Evaluando KNN con k=7 (escalado):\n",
      "F1: 0.11\n",
      "Matriz de confusión\n",
      "[[0.88133333 0.00333333]\n",
      " [0.10866667 0.00666667]]\n",
      "Evaluando KNN con k=8 (sin escalar):\n",
      "F1: 0.04\n",
      "Matriz de confusión\n",
      "[[8.84000000e-01 6.66666667e-04]\n",
      " [1.12666667e-01 2.66666667e-03]]\n",
      "Evaluando KNN con k=8 (escalado):\n",
      "F1: 0.04\n",
      "Matriz de confusión\n",
      "[[8.84000000e-01 6.66666667e-04]\n",
      " [1.12666667e-01 2.66666667e-03]]\n",
      "Evaluando KNN con k=9 (sin escalar):\n",
      "F1: 0.07\n",
      "Matriz de confusión\n",
      "[[8.84000000e-01 6.66666667e-04]\n",
      " [1.11333333e-01 4.00000000e-03]]\n",
      "Evaluando KNN con k=9 (escalado):\n",
      "F1: 0.07\n",
      "Matriz de confusión\n",
      "[[8.84000000e-01 6.66666667e-04]\n",
      " [1.11333333e-01 4.00000000e-03]]\n",
      "Evaluando KNN con k=10 (sin escalar):\n",
      "F1: 0.03\n",
      "Matriz de confusión\n",
      "[[0.88466667 0.        ]\n",
      " [0.11333333 0.002     ]]\n",
      "Evaluando KNN con k=10 (escalado):\n",
      "F1: 0.03\n",
      "Matriz de confusión\n",
      "[[0.88466667 0.        ]\n",
      " [0.11333333 0.002     ]]\n"
     ]
    }
   ],
   "source": [
    "for k in range(1, 11):\n",
    "    print(f\"Evaluando KNN con k={k} (sin escalar):\")\n",
    "    knn = KNeighborsClassifier(n_neighbors=k)\n",
    "    knn.fit(X_train, y_train)\n",
    "    y_pred = knn.predict(X_test)\n",
    "    eval_classifier(y_test, y_pred)\n",
    "\n",
    "    print(f\"Evaluando KNN con k={k} (escalado):\")\n",
    "    knn.fit(X_train_scaled, y_train)\n",
    "    y_pred_scaled = knn.predict(X_test_scaled)\n",
    "    eval_classifier(y_test, y_pred_scaled)"
   ]
  },
  {
   "cell_type": "code",
   "execution_count": 32,
   "metadata": {},
   "outputs": [],
   "source": [
    "prob_pagar = df['insurance_benefits_received'].sum() / len(df)"
   ]
  },
  {
   "cell_type": "code",
   "execution_count": 33,
   "metadata": {},
   "outputs": [
    {
     "name": "stdout",
     "output_type": "stream",
     "text": [
      "La probabilidad: 0.00\n",
      "F1: 0.00\n",
      "Matriz de confusión\n",
      "[[0.88466667 0.        ]\n",
      " [0.11533333 0.        ]]\n",
      "\n",
      "La probabilidad: 0.11\n",
      "F1: 0.13\n",
      "Matriz de confusión\n",
      "[[0.782      0.10266667]\n",
      " [0.10066667 0.01466667]]\n",
      "\n",
      "La probabilidad: 0.50\n",
      "F1: 0.20\n",
      "Matriz de confusión\n",
      "[[0.45133333 0.43333333]\n",
      " [0.054      0.06133333]]\n",
      "\n",
      "La probabilidad: 1.00\n",
      "F1: 0.21\n",
      "Matriz de confusión\n",
      "[[0.         0.88466667]\n",
      " [0.         0.11533333]]\n",
      "\n"
     ]
    }
   ],
   "source": [
    "for P in [0, prob_pagar, 0.5, 1]:\n",
    "\n",
    "    print(f'La probabilidad: {P:.2f}')\n",
    "    y_pred_rnd = rnd_model_predict(P, len(y_test)) \n",
    "        \n",
    "    eval_classifier(y_test, y_pred_rnd)# <tu código aquí>\n",
    "    \n",
    "    print()"
   ]
  },
  {
   "cell_type": "markdown",
   "metadata": {},
   "source": [
    "Divide todos los datos correspondientes a las etapas de entrenamiento/prueba respetando la proporción 70:30. Utiliza la métrica RECM para evaluar el modelo."
   ]
  },
  {
   "cell_type": "code",
   "execution_count": 34,
   "metadata": {},
   "outputs": [],
   "source": [
    "class MyLinearRegression:\n",
    "    \n",
    "    def __init__(self):\n",
    "        \n",
    "        self.weights = None\n",
    "    \n",
    "    def fit(self, X, y):\n",
    "        \n",
    "        # añadir las unidades\n",
    "        X2 = np.append(np.ones([len(X), 1]), X, axis=1)\n",
    "        self.weights = np.linalg.inv(X2.T.dot(X2)).dot(X2.T).dot(y)# <tu código aquí>\n",
    "\n",
    "    def predict(self, X):\n",
    "        \n",
    "        # añadir las unidades\n",
    "        X2 = np.append(np.ones([len(X), 1]), X, axis=1)# <tu código aquí>\n",
    "        y_pred = X2.dot(self.weights)# <tu código aquí>\n",
    "        \n",
    "        return y_pred"
   ]
  },
  {
   "cell_type": "code",
   "execution_count": 35,
   "metadata": {},
   "outputs": [],
   "source": [
    "def eval_regressor(y_true, y_pred):\n",
    "    \n",
    "    rmse = math.sqrt(sklearn.metrics.mean_squared_error(y_true, y_pred))\n",
    "    print(f'RMSE: {rmse:.2f}')\n",
    "    \n",
    "    r2_score = math.sqrt(sklearn.metrics.r2_score(y_true, y_pred))\n",
    "    print(f'R2: {r2_score:.2f}')    "
   ]
  },
  {
   "cell_type": "code",
   "execution_count": null,
   "metadata": {},
   "outputs": [],
   "source": []
  },
  {
   "cell_type": "code",
   "execution_count": 36,
   "metadata": {},
   "outputs": [
    {
     "name": "stdout",
     "output_type": "stream",
     "text": [
      "[-9.43539012e-01  3.57495491e-02  1.64272726e-02 -2.60743659e-07\n",
      " -1.16902127e-02]\n",
      "RMSE: 0.34\n",
      "R2: 0.66\n"
     ]
    }
   ],
   "source": [
    "X = df[['age', 'gender', 'income', 'family_members']].to_numpy()\n",
    "y = df['insurance_benefits'].to_numpy()\n",
    "\n",
    "X_train, X_test, y_train, y_test = train_test_split(X, y, test_size=0.3, random_state=12345)\n",
    "\n",
    "lr = MyLinearRegression()\n",
    "\n",
    "lr.fit(X_train, y_train)\n",
    "print(lr.weights)\n",
    "\n",
    "y_test_pred = lr.predict(X_test)\n",
    "eval_regressor(y_test, y_test_pred)"
   ]
  },
  {
   "cell_type": "markdown",
   "metadata": {},
   "source": [
    "# Objetivo 3. Ofuscar datos para proteccion de identidad"
   ]
  },
  {
   "cell_type": "markdown",
   "metadata": {},
   "source": [
    "Lo mejor es ofuscar los datos multiplicando las características numéricas (recuerda que se pueden ver como la matriz $X$) por una matriz invertible $P$. \n",
    "\n",
    "$$\n",
    "X' = X \\times P\n",
    "$$\n",
    "\n",
    "Trata de hacerlo y comprueba cómo quedarán los valores de las características después de la transformación. Por cierto, la propiedad de invertibilidad es importante aquí, así que asegúrate de que $P$ sea realmente invertible.\n",
    "\n",
    "Puedes revisar la lección 'Matrices y operaciones matriciales -> Multiplicación de matrices' para recordar la regla de multiplicación de matrices y su implementación con NumPy."
   ]
  },
  {
   "cell_type": "code",
   "execution_count": 37,
   "metadata": {},
   "outputs": [],
   "source": [
    "personal_info_column_list = ['gender', 'age', 'income', 'family_members']\n",
    "df_pn = df[personal_info_column_list]"
   ]
  },
  {
   "cell_type": "code",
   "execution_count": 38,
   "metadata": {},
   "outputs": [],
   "source": [
    "X = df_pn.to_numpy()"
   ]
  },
  {
   "cell_type": "markdown",
   "metadata": {},
   "source": [
    "Generar una matriz aleatoria $P$."
   ]
  },
  {
   "cell_type": "code",
   "execution_count": 39,
   "metadata": {},
   "outputs": [],
   "source": [
    "rng = np.random.default_rng(seed=42)\n",
    "P = rng.random(size=(X.shape[1], X.shape[1]))"
   ]
  },
  {
   "cell_type": "markdown",
   "metadata": {},
   "source": [
    "Comprobar que la matriz P sea invertible"
   ]
  },
  {
   "cell_type": "code",
   "execution_count": 40,
   "metadata": {},
   "outputs": [],
   "source": [
    "det_P =np.linalg.det(P)"
   ]
  },
  {
   "cell_type": "code",
   "execution_count": 41,
   "metadata": {},
   "outputs": [
    {
     "name": "stdout",
     "output_type": "stream",
     "text": [
      "Determinante de P: 0.2434\n",
      "La Matriz de P es invertible\n"
     ]
    }
   ],
   "source": [
    "print(f\"Determinante de P: {det_P:.4f}\")\n",
    "if det_P == 0:\n",
    "    print(\"La Matriz de P no es invertible\")\n",
    "else:\n",
    "    print(\"La Matriz de P es invertible\")"
   ]
  },
  {
   "cell_type": "markdown",
   "metadata": {},
   "source": [
    "¿Puedes adivinar la edad o los ingresos de los clientes después de la transformación?"
   ]
  },
  {
   "cell_type": "code",
   "execution_count": 42,
   "metadata": {},
   "outputs": [],
   "source": [
    "X_prime = X.dot(P)\n"
   ]
  },
  {
   "cell_type": "markdown",
   "metadata": {},
   "source": [
    "¿Puedes recuperar los datos originales de $X'$ si conoces $P$? Intenta comprobarlo a través de los cálculos moviendo $P$ del lado derecho de la fórmula anterior al izquierdo. En este caso las reglas de la multiplicación matricial son realmente útiles"
   ]
  },
  {
   "cell_type": "code",
   "execution_count": 43,
   "metadata": {},
   "outputs": [],
   "source": [
    "P_inv = np.linalg.inv(P)\n",
    "X_recovered = X_prime.dot(P_inv)"
   ]
  },
  {
   "cell_type": "markdown",
   "metadata": {},
   "source": [
    "Muestra los tres casos para algunos clientes- Datos originales\n",
    "- El que está transformado- El que está invertido (recuperado)"
   ]
  },
  {
   "cell_type": "code",
   "execution_count": 44,
   "metadata": {},
   "outputs": [
    {
     "name": "stdout",
     "output_type": "stream",
     "text": [
      "\n",
      "Datos originales, transformados y recuperados:\n",
      "\n",
      "Cliente 1:\n",
      "Original: [1.00e+00 4.10e+01 4.96e+04 1.00e+00]\n",
      "Transformado: [ 6359.71527314 22380.40467609 18424.09074184 46000.69669016]\n",
      "Recuperado: [1.00e+00 4.10e+01 4.96e+04 1.00e+00]\n",
      "\n",
      "Cliente 2:\n",
      "Original: [0.0e+00 4.6e+01 3.8e+04 1.0e+00]\n",
      "Transformado: [ 4873.29406479 17160.36702982 14125.78076133 35253.45577301]\n",
      "Recuperado: [-4.47363596e-12  4.60000000e+01  3.80000000e+04  1.00000000e+00]\n",
      "\n",
      "Cliente 3:\n",
      "Original: [    0.    29. 21000.     0.]\n",
      "Transformado: [ 2693.11742928  9486.397744    7808.83156024 19484.86063067]\n",
      "Recuperado: [-2.51586878e-12  2.90000000e+01  2.10000000e+04  9.52452315e-13]\n",
      "\n",
      "Cliente 4:\n",
      "Original: [0.00e+00 2.10e+01 4.17e+04 2.00e+00]\n",
      "Transformado: [ 5345.60393712 18803.22720286 15479.14837264 38663.06186284]\n",
      "Recuperado: [-4.84498208e-12  2.10000000e+01  4.17000000e+04  2.00000000e+00]\n",
      "\n",
      "Cliente 5:\n",
      "Original: [1.00e+00 2.80e+01 2.61e+04 0.00e+00]\n",
      "Transformado: [ 3347.17673462 11782.82928336  9699.99894205 24211.27337753]\n",
      "Recuperado: [ 1.0000000e+00  2.8000000e+01  2.6100000e+04 -1.0199074e-13]\n"
     ]
    }
   ],
   "source": [
    "print(\"\\nDatos originales, transformados y recuperados:\")\n",
    "for i in range(5):  # Mostrar los primeros 5 ejemplos\n",
    "    print(f\"\\nCliente {i + 1}:\")\n",
    "    print(f\"Original: {X[i]}\")\n",
    "    print(f\"Transformado: {X_prime[i]}\")\n",
    "    print(f\"Recuperado: {X_recovered[i]}\")"
   ]
  },
  {
   "cell_type": "markdown",
   "metadata": {},
   "source": [
    "Seguramente puedes ver que algunos valores no son exactamente iguales a los de los datos originales. ¿Cuál podría ser la razón de ello?"
   ]
  },
  {
   "cell_type": "markdown",
   "metadata": {},
   "source": [
    "Al ofuscar los datos estos pierden precision con respecto a los originales por efecto de redondeo o limitaciones numericas."
   ]
  },
  {
   "cell_type": "markdown",
   "metadata": {},
   "source": [
    "## Prueba de regresión lineal con ofuscación de datos"
   ]
  },
  {
   "cell_type": "markdown",
   "metadata": {},
   "source": [
    "Ahora, probemos que la regresión lineal pueda funcionar, en términos computacionales, con la transformación de ofuscación elegida.\n",
    "El siguiente procedimiento ejecuta la regresión lineal opcionalmente con la ofuscación. Se implementa la regresión lineal de scikit-learn.\n",
    "Se ejecuta la regresión lineal para los datos originales y los ofuscados, compara los valores predichos y los valores de las métricas RMSE y $R^2$. "
   ]
  },
  {
   "cell_type": "code",
   "execution_count": 46,
   "metadata": {},
   "outputs": [
    {
     "name": "stdout",
     "output_type": "stream",
     "text": [
      "RMSE con datos originales: 5.309048892555685e-15\n",
      "R^2 con datos originales: 1.0\n",
      "RMSE con datos ofuscados: 1.9243222521497977e-12\n",
      "R^2 con datos ofuscados: 1.0\n"
     ]
    },
    {
     "data": {
      "text/plain": [
       "(5.309048892555685e-15, 1.0, 1.9243222521497977e-12, 1.0)"
      ]
     },
     "execution_count": 46,
     "metadata": {},
     "output_type": "execute_result"
    }
   ],
   "source": [
    "class RegresionLinealOfuscada:\n",
    "    def __init__(self, X, y):\n",
    "        self.X = X\n",
    "        self.y = y\n",
    "        self.model = LinearRegression()\n",
    "        \n",
    "    def matrix_P(self, p):\n",
    "        while True:\n",
    "            P = np.random.randn(p, p)\n",
    "            if np.linalg.det(P) != 0:  # Verifica que la matriz sea invertible\n",
    "                return P\n",
    "            \n",
    "    def fit_model(self, X_train, y_train):\n",
    "        self.model.fit(X_train, y_train)\n",
    "        \n",
    "    def predict (self, X_test):\n",
    "        return self.model.predict(X_test)\n",
    "    \n",
    "    def calculate_rmse (self, y_true, y_pred):\n",
    "        return np.sqrt(mean_squared_error(y_true, y_pred))\n",
    "    \n",
    "    def calculate_r2 (self, y_true, y_pred):\n",
    "        return r2_score(y_true, y_pred)\n",
    "    \n",
    "    def execute(self):\n",
    "        P = self.matrix_P(self.X.shape[1])\n",
    "        \n",
    "        X_P = np.dot(self.X, P)\n",
    "        \n",
    "        self.fit_model(self.X, self.y)\n",
    "        y_pred_original = self.predict(self.X)\n",
    "        \n",
    "        self.fit_model(X_P, self.y)\n",
    "        y_pred_ofuscado = self.predict(X_P)\n",
    "        \n",
    "        rmse_original = self.calculate_rmse(self.y, y_pred_original)\n",
    "        r2_original = self.calculate_r2(self.y, y_pred_original)\n",
    "        \n",
    "        rmse_ofuscado = self.calculate_rmse(self.y, y_pred_ofuscado)\n",
    "        r2_ofuscado = self.calculate_r2(self.y, y_pred_ofuscado)\n",
    "        \n",
    "        print(\"RMSE con datos originales:\", rmse_original)\n",
    "        print(\"R^2 con datos originales:\", r2_original)\n",
    "        print(\"RMSE con datos ofuscados:\", rmse_ofuscado)\n",
    "        print(\"R^2 con datos ofuscados:\", r2_ofuscado)\n",
    "        \n",
    "        return rmse_original, r2_original, rmse_ofuscado, r2_ofuscado\n",
    "    \n",
    "np.random.seed(1234)\n",
    "X = np.random.randn(100, 5)  \n",
    "y = np.dot(X, np.array([1, 2, 3, 4, 5])) + 10  \n",
    "\n",
    "# Ejecutar el procedimiento\n",
    "regression = RegresionLinealOfuscada(X, y)\n",
    "regression.execute()\n",
    "    "
   ]
  },
  {
   "cell_type": "markdown",
   "metadata": {},
   "source": [
    "Interpretación:\n",
    "\n",
    "En ambos casos no se encontraron diferencias entre el R2 y RMSE debido a que este método no cambia la relacion subyacente de los datos, es decir, los cambios que realiza en los datos no modifica la tendencia general lo cual no afecta el rendimiento de R2 o RMSE ni la capacidad predictiva del modelo.\n",
    "\n",
    "Tanto R2 como RMSE son métricas poco sensibles a la ofuscación sobre todo si ambos conjuntos tienen la misma dispersión de errores. "
   ]
  },
  {
   "cell_type": "markdown",
   "metadata": {},
   "source": [
    "# Conclusiones"
   ]
  },
  {
   "cell_type": "markdown",
   "metadata": {},
   "source": [
    "El método k-NN es eficiente para tareas de clasificación o predicción combinado con el escalado de los datos para las métricas de distancia como la Euclideana y Manhattan las cuales son sensibles al escalado."
   ]
  },
  {
   "cell_type": "markdown",
   "metadata": {},
   "source": [
    "Un modelo predictivo funciona mejor que modelo dummy, ya que este ultimo unicamente predice la clase más frecuente. Comparativamente el modelo predictivo aprende de las caracteristicas y es posible obtener predicciones que refleja la relación que tienen las columnas. "
   ]
  },
  {
   "cell_type": "markdown",
   "metadata": {},
   "source": [
    "La regresión lineal es un modelo que predice efectivamente si la relacion entre las caracteristicas y el objetivo es cercana al lineal. Estos resultados pueden ser evaluados mediante $R^{2}$ y $RMSE$"
   ]
  },
  {
   "cell_type": "markdown",
   "metadata": {},
   "source": [
    "La ofuscación de los datos no impacta en desempeño del modelo, como se demuestra en la tarea 4, esto es muy importante ya que permite proteger la información sensible mientras mantiene la relacion que existe entre las columnas del DataFrame y al mismo tiempo permite obtener predicciones "
   ]
  }
 ],
 "metadata": {
  "ExecuteTimeLog": [
   {
    "duration": 2347,
    "start_time": "2024-11-29T16:28:09.575Z"
   },
   {
    "duration": 2755,
    "start_time": "2024-11-29T16:28:11.925Z"
   },
   {
    "duration": 10,
    "start_time": "2024-11-29T16:28:14.682Z"
   },
   {
    "duration": 3,
    "start_time": "2024-11-29T16:28:14.694Z"
   },
   {
    "duration": 10,
    "start_time": "2024-11-29T16:28:14.700Z"
   },
   {
    "duration": 8,
    "start_time": "2024-11-29T16:28:14.712Z"
   },
   {
    "duration": 304,
    "start_time": "2024-11-29T16:28:14.722Z"
   },
   {
    "duration": 0,
    "start_time": "2024-11-29T16:28:15.028Z"
   },
   {
    "duration": 0,
    "start_time": "2024-11-29T16:28:15.029Z"
   },
   {
    "duration": 0,
    "start_time": "2024-11-29T16:28:15.029Z"
   },
   {
    "duration": 0,
    "start_time": "2024-11-29T16:28:15.031Z"
   },
   {
    "duration": 0,
    "start_time": "2024-11-29T16:28:15.033Z"
   },
   {
    "duration": 0,
    "start_time": "2024-11-29T16:28:15.035Z"
   },
   {
    "duration": 0,
    "start_time": "2024-11-29T16:28:15.037Z"
   },
   {
    "duration": 0,
    "start_time": "2024-11-29T16:28:15.038Z"
   },
   {
    "duration": 0,
    "start_time": "2024-11-29T16:28:15.040Z"
   },
   {
    "duration": 0,
    "start_time": "2024-11-29T16:28:15.042Z"
   },
   {
    "duration": 0,
    "start_time": "2024-11-29T16:28:15.043Z"
   },
   {
    "duration": 0,
    "start_time": "2024-11-29T16:28:15.045Z"
   },
   {
    "duration": 0,
    "start_time": "2024-11-29T16:28:15.046Z"
   },
   {
    "duration": 0,
    "start_time": "2024-11-29T16:28:15.048Z"
   },
   {
    "duration": 0,
    "start_time": "2024-11-29T16:28:15.049Z"
   },
   {
    "duration": 0,
    "start_time": "2024-11-29T16:28:15.051Z"
   },
   {
    "duration": 0,
    "start_time": "2024-11-29T16:28:15.052Z"
   },
   {
    "duration": 0,
    "start_time": "2024-11-29T16:28:15.086Z"
   },
   {
    "duration": 3,
    "start_time": "2024-11-29T16:30:00.585Z"
   },
   {
    "duration": 16,
    "start_time": "2024-11-29T16:30:04.463Z"
   },
   {
    "duration": 141,
    "start_time": "2024-11-29T16:34:35.671Z"
   },
   {
    "duration": 7,
    "start_time": "2024-11-29T16:34:57.551Z"
   },
   {
    "duration": 3,
    "start_time": "2024-11-29T16:35:11.075Z"
   },
   {
    "duration": 8,
    "start_time": "2024-11-29T16:35:13.222Z"
   },
   {
    "duration": 9,
    "start_time": "2024-11-29T16:35:15.598Z"
   },
   {
    "duration": 3,
    "start_time": "2024-11-29T16:35:19.558Z"
   },
   {
    "duration": 9,
    "start_time": "2024-11-29T16:35:22.039Z"
   },
   {
    "duration": 2129,
    "start_time": "2024-11-29T17:36:27.325Z"
   },
   {
    "duration": 963,
    "start_time": "2024-11-29T17:36:29.457Z"
   },
   {
    "duration": 8,
    "start_time": "2024-11-29T17:36:30.421Z"
   },
   {
    "duration": 2,
    "start_time": "2024-11-29T17:36:30.431Z"
   },
   {
    "duration": 10,
    "start_time": "2024-11-29T17:36:30.435Z"
   },
   {
    "duration": 8,
    "start_time": "2024-11-29T17:36:30.446Z"
   },
   {
    "duration": 3,
    "start_time": "2024-11-29T17:36:30.456Z"
   },
   {
    "duration": 33,
    "start_time": "2024-11-29T17:36:30.461Z"
   },
   {
    "duration": 3,
    "start_time": "2024-11-29T17:36:30.496Z"
   },
   {
    "duration": 2537,
    "start_time": "2024-11-29T17:36:30.502Z"
   },
   {
    "duration": 3,
    "start_time": "2024-11-29T17:36:33.041Z"
   },
   {
    "duration": 5,
    "start_time": "2024-11-29T17:36:33.046Z"
   },
   {
    "duration": 0,
    "start_time": "2024-11-29T17:36:33.053Z"
   },
   {
    "duration": 0,
    "start_time": "2024-11-29T17:36:33.054Z"
   },
   {
    "duration": 0,
    "start_time": "2024-11-29T17:36:33.055Z"
   },
   {
    "duration": 0,
    "start_time": "2024-11-29T17:36:33.057Z"
   },
   {
    "duration": 0,
    "start_time": "2024-11-29T17:36:33.058Z"
   },
   {
    "duration": 0,
    "start_time": "2024-11-29T17:36:33.059Z"
   },
   {
    "duration": 0,
    "start_time": "2024-11-29T17:36:33.060Z"
   },
   {
    "duration": 0,
    "start_time": "2024-11-29T17:36:33.061Z"
   },
   {
    "duration": 0,
    "start_time": "2024-11-29T17:36:33.062Z"
   },
   {
    "duration": 0,
    "start_time": "2024-11-29T17:36:33.064Z"
   },
   {
    "duration": 0,
    "start_time": "2024-11-29T17:36:33.065Z"
   },
   {
    "duration": 0,
    "start_time": "2024-11-29T17:36:33.066Z"
   },
   {
    "duration": 0,
    "start_time": "2024-11-29T17:36:33.067Z"
   },
   {
    "duration": 4,
    "start_time": "2024-11-29T17:40:39.264Z"
   },
   {
    "duration": 5,
    "start_time": "2024-11-29T17:40:45.214Z"
   },
   {
    "duration": 141,
    "start_time": "2024-11-29T17:41:06.747Z"
   },
   {
    "duration": 5,
    "start_time": "2024-11-29T17:41:23.246Z"
   },
   {
    "duration": 11,
    "start_time": "2024-11-29T17:50:23.406Z"
   },
   {
    "duration": 103,
    "start_time": "2024-11-29T17:50:45.783Z"
   },
   {
    "duration": 3,
    "start_time": "2024-11-29T17:50:58.727Z"
   },
   {
    "duration": 3,
    "start_time": "2024-11-29T17:51:25.375Z"
   },
   {
    "duration": 1005,
    "start_time": "2024-11-29T17:51:25.380Z"
   },
   {
    "duration": 7,
    "start_time": "2024-11-29T17:51:26.387Z"
   },
   {
    "duration": 3,
    "start_time": "2024-11-29T17:51:26.395Z"
   },
   {
    "duration": 10,
    "start_time": "2024-11-29T17:51:26.401Z"
   },
   {
    "duration": 8,
    "start_time": "2024-11-29T17:51:26.413Z"
   },
   {
    "duration": 3,
    "start_time": "2024-11-29T17:51:26.422Z"
   },
   {
    "duration": 7,
    "start_time": "2024-11-29T17:51:26.428Z"
   },
   {
    "duration": 4,
    "start_time": "2024-11-29T17:51:26.437Z"
   },
   {
    "duration": 259,
    "start_time": "2024-11-29T17:51:26.442Z"
   },
   {
    "duration": 0,
    "start_time": "2024-11-29T17:51:26.703Z"
   },
   {
    "duration": 0,
    "start_time": "2024-11-29T17:51:26.704Z"
   },
   {
    "duration": 0,
    "start_time": "2024-11-29T17:51:26.706Z"
   },
   {
    "duration": 0,
    "start_time": "2024-11-29T17:51:26.707Z"
   },
   {
    "duration": 0,
    "start_time": "2024-11-29T17:51:26.708Z"
   },
   {
    "duration": 0,
    "start_time": "2024-11-29T17:51:26.709Z"
   },
   {
    "duration": 0,
    "start_time": "2024-11-29T17:51:26.711Z"
   },
   {
    "duration": 1,
    "start_time": "2024-11-29T17:51:26.711Z"
   },
   {
    "duration": 0,
    "start_time": "2024-11-29T17:51:26.712Z"
   },
   {
    "duration": 0,
    "start_time": "2024-11-29T17:51:26.714Z"
   },
   {
    "duration": 0,
    "start_time": "2024-11-29T17:51:26.715Z"
   },
   {
    "duration": 0,
    "start_time": "2024-11-29T17:51:26.716Z"
   },
   {
    "duration": 0,
    "start_time": "2024-11-29T17:51:26.717Z"
   },
   {
    "duration": 0,
    "start_time": "2024-11-29T17:51:26.718Z"
   },
   {
    "duration": 0,
    "start_time": "2024-11-29T17:51:26.719Z"
   },
   {
    "duration": 0,
    "start_time": "2024-11-29T17:51:26.720Z"
   },
   {
    "duration": 14,
    "start_time": "2024-11-29T17:53:09.757Z"
   },
   {
    "duration": 4,
    "start_time": "2024-11-29T17:53:44.220Z"
   },
   {
    "duration": 5,
    "start_time": "2024-11-29T18:00:18.911Z"
   },
   {
    "duration": 14,
    "start_time": "2024-11-29T18:04:54.136Z"
   },
   {
    "duration": 6,
    "start_time": "2024-11-29T18:05:18.115Z"
   },
   {
    "duration": 8,
    "start_time": "2024-11-29T18:05:52.987Z"
   },
   {
    "duration": 3,
    "start_time": "2024-11-29T18:06:29.212Z"
   },
   {
    "duration": 1014,
    "start_time": "2024-11-29T18:06:29.217Z"
   },
   {
    "duration": 8,
    "start_time": "2024-11-29T18:06:30.233Z"
   },
   {
    "duration": 3,
    "start_time": "2024-11-29T18:06:30.242Z"
   },
   {
    "duration": 11,
    "start_time": "2024-11-29T18:06:30.248Z"
   },
   {
    "duration": 27,
    "start_time": "2024-11-29T18:06:30.260Z"
   },
   {
    "duration": 3,
    "start_time": "2024-11-29T18:06:30.289Z"
   },
   {
    "duration": 9,
    "start_time": "2024-11-29T18:06:30.294Z"
   },
   {
    "duration": 4,
    "start_time": "2024-11-29T18:06:30.304Z"
   },
   {
    "duration": 4,
    "start_time": "2024-11-29T18:06:30.309Z"
   },
   {
    "duration": 8,
    "start_time": "2024-11-29T18:06:30.314Z"
   },
   {
    "duration": 5,
    "start_time": "2024-11-29T18:06:30.323Z"
   },
   {
    "duration": 273,
    "start_time": "2024-11-29T18:06:30.329Z"
   },
   {
    "duration": 0,
    "start_time": "2024-11-29T18:06:30.604Z"
   },
   {
    "duration": 0,
    "start_time": "2024-11-29T18:06:30.606Z"
   },
   {
    "duration": 0,
    "start_time": "2024-11-29T18:06:30.607Z"
   },
   {
    "duration": 0,
    "start_time": "2024-11-29T18:06:30.608Z"
   },
   {
    "duration": 0,
    "start_time": "2024-11-29T18:06:30.609Z"
   },
   {
    "duration": 0,
    "start_time": "2024-11-29T18:06:30.610Z"
   },
   {
    "duration": 0,
    "start_time": "2024-11-29T18:06:30.611Z"
   },
   {
    "duration": 0,
    "start_time": "2024-11-29T18:06:30.612Z"
   },
   {
    "duration": 0,
    "start_time": "2024-11-29T18:06:30.614Z"
   },
   {
    "duration": 0,
    "start_time": "2024-11-29T18:06:30.614Z"
   },
   {
    "duration": 0,
    "start_time": "2024-11-29T18:06:30.616Z"
   },
   {
    "duration": 0,
    "start_time": "2024-11-29T18:06:30.618Z"
   },
   {
    "duration": 0,
    "start_time": "2024-11-29T18:06:30.619Z"
   },
   {
    "duration": 0,
    "start_time": "2024-11-29T18:06:30.621Z"
   },
   {
    "duration": 0,
    "start_time": "2024-11-29T18:06:30.622Z"
   },
   {
    "duration": 0,
    "start_time": "2024-11-29T18:06:30.623Z"
   },
   {
    "duration": 3,
    "start_time": "2024-11-29T18:08:44.638Z"
   },
   {
    "duration": 5,
    "start_time": "2024-11-29T18:14:25.468Z"
   },
   {
    "duration": 17,
    "start_time": "2024-11-29T18:14:30.962Z"
   },
   {
    "duration": 5,
    "start_time": "2024-11-29T18:20:59.753Z"
   },
   {
    "duration": 17,
    "start_time": "2024-11-29T18:23:58.410Z"
   },
   {
    "duration": 5,
    "start_time": "2024-11-29T18:25:34.392Z"
   },
   {
    "duration": 952,
    "start_time": "2024-11-29T18:25:52.499Z"
   },
   {
    "duration": 3,
    "start_time": "2024-11-29T18:31:46.438Z"
   },
   {
    "duration": 1076,
    "start_time": "2024-11-29T18:32:01.130Z"
   },
   {
    "duration": 2725,
    "start_time": "2024-11-29T18:33:01.712Z"
   },
   {
    "duration": 14,
    "start_time": "2024-11-29T18:38:03.026Z"
   },
   {
    "duration": 270,
    "start_time": "2024-11-29T18:40:02.401Z"
   },
   {
    "duration": 15,
    "start_time": "2024-11-29T18:41:59.018Z"
   },
   {
    "duration": 195,
    "start_time": "2024-11-29T18:44:46.566Z"
   },
   {
    "duration": 125,
    "start_time": "2024-11-29T18:47:25.881Z"
   },
   {
    "duration": 268,
    "start_time": "2024-11-29T18:47:35.829Z"
   },
   {
    "duration": 966,
    "start_time": "2024-11-29T18:50:14.096Z"
   },
   {
    "duration": 1148,
    "start_time": "2024-11-29T18:51:11.161Z"
   },
   {
    "duration": 986,
    "start_time": "2024-11-29T18:51:30.276Z"
   },
   {
    "duration": 951,
    "start_time": "2024-11-29T18:51:50.119Z"
   },
   {
    "duration": 915,
    "start_time": "2024-11-29T18:52:01.458Z"
   },
   {
    "duration": 1039,
    "start_time": "2024-11-29T18:52:16.701Z"
   },
   {
    "duration": 1037,
    "start_time": "2024-11-29T18:52:47.936Z"
   },
   {
    "duration": 1067,
    "start_time": "2024-11-29T18:53:05.015Z"
   },
   {
    "duration": 1175,
    "start_time": "2024-11-29T18:53:17.927Z"
   },
   {
    "duration": 1118,
    "start_time": "2024-11-29T18:53:35.392Z"
   },
   {
    "duration": 1063,
    "start_time": "2024-11-29T18:54:05.223Z"
   },
   {
    "duration": 1057,
    "start_time": "2024-11-29T18:54:14.638Z"
   },
   {
    "duration": 1264,
    "start_time": "2024-11-29T18:54:45.808Z"
   },
   {
    "duration": 1358,
    "start_time": "2024-11-29T18:55:12.277Z"
   },
   {
    "duration": 1534,
    "start_time": "2024-11-29T18:55:33.673Z"
   },
   {
    "duration": 1301,
    "start_time": "2024-11-29T19:01:42.307Z"
   },
   {
    "duration": 1382,
    "start_time": "2024-11-29T19:02:06.607Z"
   },
   {
    "duration": 1352,
    "start_time": "2024-11-29T19:02:26.729Z"
   },
   {
    "duration": 1499,
    "start_time": "2024-11-29T19:02:54.408Z"
   },
   {
    "duration": 3,
    "start_time": "2024-12-03T18:33:34.049Z"
   },
   {
    "duration": 2880,
    "start_time": "2024-12-03T18:33:34.055Z"
   },
   {
    "duration": 14,
    "start_time": "2024-12-03T18:33:36.937Z"
   },
   {
    "duration": 4,
    "start_time": "2024-12-03T18:33:36.952Z"
   },
   {
    "duration": 12,
    "start_time": "2024-12-03T18:33:36.958Z"
   },
   {
    "duration": 9,
    "start_time": "2024-12-03T18:33:36.972Z"
   },
   {
    "duration": 3,
    "start_time": "2024-12-03T18:33:36.984Z"
   },
   {
    "duration": 9,
    "start_time": "2024-12-03T18:33:36.989Z"
   },
   {
    "duration": 4,
    "start_time": "2024-12-03T18:33:37.000Z"
   },
   {
    "duration": 2,
    "start_time": "2024-12-03T18:33:37.006Z"
   },
   {
    "duration": 2,
    "start_time": "2024-12-03T18:33:37.046Z"
   },
   {
    "duration": 4,
    "start_time": "2024-12-03T18:33:37.050Z"
   },
   {
    "duration": 4,
    "start_time": "2024-12-03T18:33:37.056Z"
   },
   {
    "duration": 1441,
    "start_time": "2024-12-03T18:33:37.062Z"
   },
   {
    "duration": 2749,
    "start_time": "2024-12-03T18:33:38.505Z"
   },
   {
    "duration": 3,
    "start_time": "2024-12-03T18:33:41.255Z"
   },
   {
    "duration": 6,
    "start_time": "2024-12-03T18:33:41.260Z"
   },
   {
    "duration": 0,
    "start_time": "2024-12-03T18:33:41.267Z"
   },
   {
    "duration": 0,
    "start_time": "2024-12-03T18:33:41.268Z"
   },
   {
    "duration": 0,
    "start_time": "2024-12-03T18:33:41.270Z"
   },
   {
    "duration": 0,
    "start_time": "2024-12-03T18:33:41.271Z"
   },
   {
    "duration": 0,
    "start_time": "2024-12-03T18:33:41.272Z"
   },
   {
    "duration": 0,
    "start_time": "2024-12-03T18:33:41.273Z"
   },
   {
    "duration": 0,
    "start_time": "2024-12-03T18:33:41.274Z"
   },
   {
    "duration": 0,
    "start_time": "2024-12-03T18:33:41.275Z"
   },
   {
    "duration": 0,
    "start_time": "2024-12-03T18:33:41.277Z"
   },
   {
    "duration": 0,
    "start_time": "2024-12-03T18:33:41.278Z"
   },
   {
    "duration": 0,
    "start_time": "2024-12-03T18:33:41.279Z"
   },
   {
    "duration": 0,
    "start_time": "2024-12-03T18:33:41.280Z"
   },
   {
    "duration": 0,
    "start_time": "2024-12-03T18:33:41.281Z"
   },
   {
    "duration": 4,
    "start_time": "2024-12-03T18:51:50.279Z"
   },
   {
    "duration": 13,
    "start_time": "2024-12-03T18:55:40.363Z"
   },
   {
    "duration": 288,
    "start_time": "2024-12-03T19:00:16.846Z"
   },
   {
    "duration": 1032,
    "start_time": "2024-12-03T19:03:09.469Z"
   },
   {
    "duration": 5,
    "start_time": "2024-12-03T19:04:07.778Z"
   },
   {
    "duration": 5,
    "start_time": "2024-12-03T19:04:25.232Z"
   },
   {
    "duration": 1091,
    "start_time": "2024-12-03T19:04:39.228Z"
   },
   {
    "duration": 81,
    "start_time": "2024-12-03T19:06:47.963Z"
   },
   {
    "duration": 153,
    "start_time": "2024-12-03T19:07:23.101Z"
   },
   {
    "duration": 75,
    "start_time": "2024-12-03T19:09:58.660Z"
   },
   {
    "duration": 160,
    "start_time": "2024-12-03T19:14:41.373Z"
   },
   {
    "duration": 163,
    "start_time": "2024-12-03T19:14:54.670Z"
   },
   {
    "duration": 158,
    "start_time": "2024-12-03T19:15:26.028Z"
   },
   {
    "duration": 157,
    "start_time": "2024-12-03T19:16:00.985Z"
   },
   {
    "duration": 157,
    "start_time": "2024-12-03T19:17:31.899Z"
   },
   {
    "duration": 157,
    "start_time": "2024-12-03T19:17:59.840Z"
   },
   {
    "duration": 159,
    "start_time": "2024-12-03T19:18:43.292Z"
   },
   {
    "duration": 2,
    "start_time": "2024-12-03T20:30:36.064Z"
   },
   {
    "duration": 2771,
    "start_time": "2024-12-03T20:30:36.069Z"
   },
   {
    "duration": 19,
    "start_time": "2024-12-03T20:30:38.843Z"
   },
   {
    "duration": 3,
    "start_time": "2024-12-03T20:30:38.864Z"
   },
   {
    "duration": 11,
    "start_time": "2024-12-03T20:30:38.868Z"
   },
   {
    "duration": 8,
    "start_time": "2024-12-03T20:30:38.881Z"
   },
   {
    "duration": 3,
    "start_time": "2024-12-03T20:30:38.891Z"
   },
   {
    "duration": 8,
    "start_time": "2024-12-03T20:30:38.895Z"
   },
   {
    "duration": 4,
    "start_time": "2024-12-03T20:30:38.905Z"
   },
   {
    "duration": 20,
    "start_time": "2024-12-03T20:30:38.911Z"
   },
   {
    "duration": 3,
    "start_time": "2024-12-03T20:30:38.933Z"
   },
   {
    "duration": 4,
    "start_time": "2024-12-03T20:30:38.938Z"
   },
   {
    "duration": 6,
    "start_time": "2024-12-03T20:30:38.943Z"
   },
   {
    "duration": 4,
    "start_time": "2024-12-03T20:30:38.950Z"
   },
   {
    "duration": 13,
    "start_time": "2024-12-03T20:30:38.958Z"
   },
   {
    "duration": 197,
    "start_time": "2024-12-03T20:30:38.972Z"
   },
   {
    "duration": 952,
    "start_time": "2024-12-03T20:30:39.171Z"
   },
   {
    "duration": 3003,
    "start_time": "2024-12-03T20:30:40.125Z"
   },
   {
    "duration": 3,
    "start_time": "2024-12-03T20:30:43.131Z"
   },
   {
    "duration": 6,
    "start_time": "2024-12-03T20:30:43.137Z"
   },
   {
    "duration": 0,
    "start_time": "2024-12-03T20:30:43.145Z"
   },
   {
    "duration": 0,
    "start_time": "2024-12-03T20:30:43.147Z"
   },
   {
    "duration": 0,
    "start_time": "2024-12-03T20:30:43.148Z"
   },
   {
    "duration": 0,
    "start_time": "2024-12-03T20:30:43.149Z"
   },
   {
    "duration": 0,
    "start_time": "2024-12-03T20:30:43.150Z"
   },
   {
    "duration": 0,
    "start_time": "2024-12-03T20:30:43.152Z"
   },
   {
    "duration": 0,
    "start_time": "2024-12-03T20:30:43.154Z"
   },
   {
    "duration": 0,
    "start_time": "2024-12-03T20:30:43.155Z"
   },
   {
    "duration": 0,
    "start_time": "2024-12-03T20:30:43.157Z"
   },
   {
    "duration": 0,
    "start_time": "2024-12-03T20:30:43.158Z"
   },
   {
    "duration": 0,
    "start_time": "2024-12-03T20:30:43.160Z"
   },
   {
    "duration": 0,
    "start_time": "2024-12-03T20:30:43.161Z"
   },
   {
    "duration": 0,
    "start_time": "2024-12-03T20:30:43.163Z"
   },
   {
    "duration": 12,
    "start_time": "2024-12-03T20:31:11.938Z"
   },
   {
    "duration": 6,
    "start_time": "2024-12-03T20:31:19.470Z"
   },
   {
    "duration": 7,
    "start_time": "2024-12-03T20:31:28.154Z"
   },
   {
    "duration": 5,
    "start_time": "2024-12-03T20:31:37.515Z"
   },
   {
    "duration": 6,
    "start_time": "2024-12-03T20:31:45.854Z"
   },
   {
    "duration": 3,
    "start_time": "2024-12-03T23:06:54.621Z"
   },
   {
    "duration": 2739,
    "start_time": "2024-12-03T23:06:54.626Z"
   },
   {
    "duration": 10,
    "start_time": "2024-12-03T23:06:57.366Z"
   },
   {
    "duration": 3,
    "start_time": "2024-12-03T23:06:57.378Z"
   },
   {
    "duration": 10,
    "start_time": "2024-12-03T23:06:57.383Z"
   },
   {
    "duration": 18,
    "start_time": "2024-12-03T23:06:57.394Z"
   },
   {
    "duration": 4,
    "start_time": "2024-12-03T23:06:57.413Z"
   },
   {
    "duration": 10,
    "start_time": "2024-12-03T23:06:57.418Z"
   },
   {
    "duration": 5,
    "start_time": "2024-12-03T23:06:57.430Z"
   },
   {
    "duration": 2,
    "start_time": "2024-12-03T23:06:57.436Z"
   },
   {
    "duration": 2,
    "start_time": "2024-12-03T23:06:57.440Z"
   },
   {
    "duration": 5,
    "start_time": "2024-12-03T23:06:57.444Z"
   },
   {
    "duration": 4,
    "start_time": "2024-12-03T23:06:57.450Z"
   },
   {
    "duration": 49,
    "start_time": "2024-12-03T23:06:57.456Z"
   },
   {
    "duration": 12,
    "start_time": "2024-12-03T23:06:57.507Z"
   },
   {
    "duration": 176,
    "start_time": "2024-12-03T23:06:57.520Z"
   },
   {
    "duration": 1073,
    "start_time": "2024-12-03T23:06:57.697Z"
   },
   {
    "duration": 2560,
    "start_time": "2024-12-03T23:06:58.772Z"
   },
   {
    "duration": 3,
    "start_time": "2024-12-03T23:07:01.334Z"
   },
   {
    "duration": 6,
    "start_time": "2024-12-03T23:07:01.339Z"
   },
   {
    "duration": 0,
    "start_time": "2024-12-03T23:07:01.347Z"
   },
   {
    "duration": 0,
    "start_time": "2024-12-03T23:07:01.349Z"
   },
   {
    "duration": 0,
    "start_time": "2024-12-03T23:07:01.350Z"
   },
   {
    "duration": 0,
    "start_time": "2024-12-03T23:07:01.352Z"
   },
   {
    "duration": 0,
    "start_time": "2024-12-03T23:07:01.353Z"
   },
   {
    "duration": 0,
    "start_time": "2024-12-03T23:07:01.354Z"
   },
   {
    "duration": 0,
    "start_time": "2024-12-03T23:07:01.355Z"
   },
   {
    "duration": 0,
    "start_time": "2024-12-03T23:07:01.356Z"
   },
   {
    "duration": 0,
    "start_time": "2024-12-03T23:07:01.357Z"
   },
   {
    "duration": 0,
    "start_time": "2024-12-03T23:07:01.358Z"
   },
   {
    "duration": 0,
    "start_time": "2024-12-03T23:07:01.360Z"
   },
   {
    "duration": 0,
    "start_time": "2024-12-03T23:07:01.361Z"
   },
   {
    "duration": 0,
    "start_time": "2024-12-03T23:07:01.363Z"
   },
   {
    "duration": 160,
    "start_time": "2024-12-03T23:07:20.236Z"
   },
   {
    "duration": 6,
    "start_time": "2024-12-03T23:07:33.352Z"
   },
   {
    "duration": 5,
    "start_time": "2024-12-03T23:08:11.418Z"
   },
   {
    "duration": 241,
    "start_time": "2024-12-03T23:25:12.938Z"
   },
   {
    "duration": 5,
    "start_time": "2024-12-03T23:26:03.818Z"
   },
   {
    "duration": 3,
    "start_time": "2024-12-03T23:26:10.686Z"
   },
   {
    "duration": 17,
    "start_time": "2024-12-03T23:26:16.310Z"
   },
   {
    "duration": 15,
    "start_time": "2024-12-03T23:26:34.020Z"
   },
   {
    "duration": 4,
    "start_time": "2024-12-03T23:26:59.122Z"
   },
   {
    "duration": 23,
    "start_time": "2024-12-03T23:27:01.319Z"
   },
   {
    "duration": 2,
    "start_time": "2024-12-03T23:27:26.652Z"
   },
   {
    "duration": 1060,
    "start_time": "2024-12-03T23:27:26.657Z"
   },
   {
    "duration": 8,
    "start_time": "2024-12-03T23:27:27.721Z"
   },
   {
    "duration": 4,
    "start_time": "2024-12-03T23:27:27.731Z"
   },
   {
    "duration": 11,
    "start_time": "2024-12-03T23:27:27.738Z"
   },
   {
    "duration": 10,
    "start_time": "2024-12-03T23:27:27.751Z"
   },
   {
    "duration": 3,
    "start_time": "2024-12-03T23:27:27.763Z"
   },
   {
    "duration": 9,
    "start_time": "2024-12-03T23:27:27.767Z"
   },
   {
    "duration": 30,
    "start_time": "2024-12-03T23:27:27.777Z"
   },
   {
    "duration": 3,
    "start_time": "2024-12-03T23:27:27.809Z"
   },
   {
    "duration": 2,
    "start_time": "2024-12-03T23:27:27.816Z"
   },
   {
    "duration": 6,
    "start_time": "2024-12-03T23:27:27.820Z"
   },
   {
    "duration": 5,
    "start_time": "2024-12-03T23:27:27.828Z"
   },
   {
    "duration": 5,
    "start_time": "2024-12-03T23:27:27.835Z"
   },
   {
    "duration": 15,
    "start_time": "2024-12-03T23:27:27.842Z"
   },
   {
    "duration": 276,
    "start_time": "2024-12-03T23:27:27.859Z"
   },
   {
    "duration": 941,
    "start_time": "2024-12-03T23:27:28.136Z"
   },
   {
    "duration": 2897,
    "start_time": "2024-12-03T23:27:29.079Z"
   },
   {
    "duration": 2,
    "start_time": "2024-12-03T23:27:31.979Z"
   },
   {
    "duration": 5,
    "start_time": "2024-12-03T23:27:31.983Z"
   },
   {
    "duration": 262,
    "start_time": "2024-12-03T23:27:31.990Z"
   },
   {
    "duration": 0,
    "start_time": "2024-12-03T23:27:32.254Z"
   },
   {
    "duration": 0,
    "start_time": "2024-12-03T23:27:32.256Z"
   },
   {
    "duration": 0,
    "start_time": "2024-12-03T23:27:32.256Z"
   },
   {
    "duration": 0,
    "start_time": "2024-12-03T23:27:32.257Z"
   },
   {
    "duration": 0,
    "start_time": "2024-12-03T23:27:32.259Z"
   },
   {
    "duration": 0,
    "start_time": "2024-12-03T23:27:32.260Z"
   },
   {
    "duration": 0,
    "start_time": "2024-12-03T23:27:32.261Z"
   },
   {
    "duration": 0,
    "start_time": "2024-12-03T23:27:32.262Z"
   },
   {
    "duration": 0,
    "start_time": "2024-12-03T23:27:32.263Z"
   },
   {
    "duration": 0,
    "start_time": "2024-12-03T23:27:32.264Z"
   },
   {
    "duration": 0,
    "start_time": "2024-12-03T23:27:32.265Z"
   },
   {
    "duration": 0,
    "start_time": "2024-12-03T23:27:32.266Z"
   },
   {
    "duration": 0,
    "start_time": "2024-12-03T23:27:32.267Z"
   },
   {
    "duration": 994,
    "start_time": "2024-12-03T23:28:05.277Z"
   },
   {
    "duration": 382,
    "start_time": "2024-12-03T23:28:32.666Z"
   },
   {
    "duration": 161,
    "start_time": "2024-12-03T23:28:39.944Z"
   },
   {
    "duration": 4,
    "start_time": "2024-12-03T23:28:50.323Z"
   },
   {
    "duration": 23,
    "start_time": "2024-12-03T23:28:55.876Z"
   },
   {
    "duration": 23,
    "start_time": "2024-12-03T23:34:21.053Z"
   },
   {
    "duration": 20,
    "start_time": "2024-12-03T23:34:28.332Z"
   },
   {
    "duration": 4,
    "start_time": "2024-12-03T23:34:40.061Z"
   },
   {
    "duration": 21,
    "start_time": "2024-12-03T23:34:43.502Z"
   },
   {
    "duration": 30,
    "start_time": "2024-12-03T23:37:11.998Z"
   },
   {
    "duration": 3,
    "start_time": "2024-12-03T23:39:29.364Z"
   },
   {
    "duration": 24,
    "start_time": "2024-12-03T23:39:38.616Z"
   },
   {
    "duration": 22,
    "start_time": "2024-12-03T23:42:00.063Z"
   },
   {
    "duration": 21,
    "start_time": "2024-12-03T23:44:18.213Z"
   },
   {
    "duration": 3,
    "start_time": "2024-12-03T23:44:27.031Z"
   },
   {
    "duration": 1030,
    "start_time": "2024-12-03T23:44:27.036Z"
   },
   {
    "duration": 7,
    "start_time": "2024-12-03T23:44:28.068Z"
   },
   {
    "duration": 3,
    "start_time": "2024-12-03T23:44:28.077Z"
   },
   {
    "duration": 10,
    "start_time": "2024-12-03T23:44:28.082Z"
   },
   {
    "duration": 9,
    "start_time": "2024-12-03T23:44:28.104Z"
   },
   {
    "duration": 3,
    "start_time": "2024-12-03T23:44:28.115Z"
   },
   {
    "duration": 8,
    "start_time": "2024-12-03T23:44:28.119Z"
   },
   {
    "duration": 6,
    "start_time": "2024-12-03T23:44:28.128Z"
   },
   {
    "duration": 2,
    "start_time": "2024-12-03T23:44:28.136Z"
   },
   {
    "duration": 3,
    "start_time": "2024-12-03T23:44:28.139Z"
   },
   {
    "duration": 6,
    "start_time": "2024-12-03T23:44:28.143Z"
   },
   {
    "duration": 4,
    "start_time": "2024-12-03T23:44:28.150Z"
   },
   {
    "duration": 4,
    "start_time": "2024-12-03T23:44:28.157Z"
   },
   {
    "duration": 12,
    "start_time": "2024-12-03T23:44:28.205Z"
   },
   {
    "duration": 175,
    "start_time": "2024-12-03T23:44:28.218Z"
   },
   {
    "duration": 970,
    "start_time": "2024-12-03T23:44:28.395Z"
   },
   {
    "duration": 2596,
    "start_time": "2024-12-03T23:44:29.367Z"
   },
   {
    "duration": 2,
    "start_time": "2024-12-03T23:44:31.965Z"
   },
   {
    "duration": 5,
    "start_time": "2024-12-03T23:44:31.969Z"
   },
   {
    "duration": 250,
    "start_time": "2024-12-03T23:44:31.975Z"
   },
   {
    "duration": 0,
    "start_time": "2024-12-03T23:44:32.227Z"
   },
   {
    "duration": 0,
    "start_time": "2024-12-03T23:44:32.228Z"
   },
   {
    "duration": 0,
    "start_time": "2024-12-03T23:44:32.230Z"
   },
   {
    "duration": 0,
    "start_time": "2024-12-03T23:44:32.232Z"
   },
   {
    "duration": 0,
    "start_time": "2024-12-03T23:44:32.233Z"
   },
   {
    "duration": 0,
    "start_time": "2024-12-03T23:44:32.235Z"
   },
   {
    "duration": 0,
    "start_time": "2024-12-03T23:44:32.236Z"
   },
   {
    "duration": 0,
    "start_time": "2024-12-03T23:44:32.237Z"
   },
   {
    "duration": 0,
    "start_time": "2024-12-03T23:44:32.239Z"
   },
   {
    "duration": 0,
    "start_time": "2024-12-03T23:44:32.241Z"
   },
   {
    "duration": 0,
    "start_time": "2024-12-03T23:44:32.242Z"
   },
   {
    "duration": 0,
    "start_time": "2024-12-03T23:44:32.243Z"
   },
   {
    "duration": 0,
    "start_time": "2024-12-03T23:44:32.244Z"
   },
   {
    "duration": 0,
    "start_time": "2024-12-03T23:44:32.245Z"
   },
   {
    "duration": 4,
    "start_time": "2024-12-03T23:45:32.858Z"
   },
   {
    "duration": 33,
    "start_time": "2024-12-03T23:45:35.283Z"
   },
   {
    "duration": 105,
    "start_time": "2024-12-03T23:45:54.512Z"
   },
   {
    "duration": 4,
    "start_time": "2024-12-03T23:47:54.473Z"
   },
   {
    "duration": 24,
    "start_time": "2024-12-03T23:47:56.864Z"
   },
   {
    "duration": 5,
    "start_time": "2024-12-03T23:48:53.283Z"
   },
   {
    "duration": 24,
    "start_time": "2024-12-03T23:48:55.739Z"
   },
   {
    "duration": 4,
    "start_time": "2024-12-03T23:51:46.053Z"
   },
   {
    "duration": 23,
    "start_time": "2024-12-03T23:51:47.994Z"
   },
   {
    "duration": 4,
    "start_time": "2024-12-03T23:53:02.004Z"
   },
   {
    "duration": 27,
    "start_time": "2024-12-03T23:53:05.188Z"
   },
   {
    "duration": 23,
    "start_time": "2024-12-03T23:54:50.623Z"
   },
   {
    "duration": 3,
    "start_time": "2024-12-03T23:55:53.402Z"
   },
   {
    "duration": 3,
    "start_time": "2024-12-03T23:56:03.604Z"
   },
   {
    "duration": 990,
    "start_time": "2024-12-03T23:56:03.610Z"
   },
   {
    "duration": 8,
    "start_time": "2024-12-03T23:56:04.602Z"
   },
   {
    "duration": 3,
    "start_time": "2024-12-03T23:56:04.612Z"
   },
   {
    "duration": 11,
    "start_time": "2024-12-03T23:56:04.618Z"
   },
   {
    "duration": 9,
    "start_time": "2024-12-03T23:56:04.631Z"
   },
   {
    "duration": 3,
    "start_time": "2024-12-03T23:56:04.642Z"
   },
   {
    "duration": 8,
    "start_time": "2024-12-03T23:56:04.647Z"
   },
   {
    "duration": 5,
    "start_time": "2024-12-03T23:56:04.657Z"
   },
   {
    "duration": 3,
    "start_time": "2024-12-03T23:56:04.664Z"
   },
   {
    "duration": 2,
    "start_time": "2024-12-03T23:56:04.707Z"
   },
   {
    "duration": 6,
    "start_time": "2024-12-03T23:56:04.711Z"
   },
   {
    "duration": 5,
    "start_time": "2024-12-03T23:56:04.719Z"
   },
   {
    "duration": 5,
    "start_time": "2024-12-03T23:56:04.725Z"
   },
   {
    "duration": 11,
    "start_time": "2024-12-03T23:56:04.731Z"
   },
   {
    "duration": 193,
    "start_time": "2024-12-03T23:56:04.744Z"
   },
   {
    "duration": 947,
    "start_time": "2024-12-03T23:56:04.939Z"
   },
   {
    "duration": 2461,
    "start_time": "2024-12-03T23:56:05.888Z"
   },
   {
    "duration": 3,
    "start_time": "2024-12-03T23:56:08.351Z"
   },
   {
    "duration": 5,
    "start_time": "2024-12-03T23:56:08.355Z"
   },
   {
    "duration": 261,
    "start_time": "2024-12-03T23:56:08.362Z"
   },
   {
    "duration": 0,
    "start_time": "2024-12-03T23:56:08.625Z"
   },
   {
    "duration": 0,
    "start_time": "2024-12-03T23:56:08.626Z"
   },
   {
    "duration": 0,
    "start_time": "2024-12-03T23:56:08.627Z"
   },
   {
    "duration": 0,
    "start_time": "2024-12-03T23:56:08.628Z"
   },
   {
    "duration": 0,
    "start_time": "2024-12-03T23:56:08.629Z"
   },
   {
    "duration": 0,
    "start_time": "2024-12-03T23:56:08.630Z"
   },
   {
    "duration": 0,
    "start_time": "2024-12-03T23:56:08.630Z"
   },
   {
    "duration": 0,
    "start_time": "2024-12-03T23:56:08.631Z"
   },
   {
    "duration": 0,
    "start_time": "2024-12-03T23:56:08.632Z"
   },
   {
    "duration": 0,
    "start_time": "2024-12-03T23:56:08.633Z"
   },
   {
    "duration": 0,
    "start_time": "2024-12-03T23:56:08.634Z"
   },
   {
    "duration": 0,
    "start_time": "2024-12-03T23:56:08.634Z"
   },
   {
    "duration": 0,
    "start_time": "2024-12-03T23:56:08.635Z"
   },
   {
    "duration": 0,
    "start_time": "2024-12-03T23:56:08.636Z"
   },
   {
    "duration": 0,
    "start_time": "2024-12-03T23:56:08.637Z"
   },
   {
    "duration": 11,
    "start_time": "2024-12-03T23:56:24.574Z"
   },
   {
    "duration": 12,
    "start_time": "2024-12-03T23:56:57.400Z"
   },
   {
    "duration": 120,
    "start_time": "2024-12-03T23:57:06.491Z"
   },
   {
    "duration": 11,
    "start_time": "2024-12-04T00:01:34.379Z"
   },
   {
    "duration": 12,
    "start_time": "2024-12-04T00:01:46.884Z"
   },
   {
    "duration": 3,
    "start_time": "2024-12-04T00:02:27.374Z"
   },
   {
    "duration": 992,
    "start_time": "2024-12-04T00:02:27.379Z"
   },
   {
    "duration": 7,
    "start_time": "2024-12-04T00:02:28.373Z"
   },
   {
    "duration": 3,
    "start_time": "2024-12-04T00:02:28.382Z"
   },
   {
    "duration": 19,
    "start_time": "2024-12-04T00:02:28.387Z"
   },
   {
    "duration": 9,
    "start_time": "2024-12-04T00:02:28.407Z"
   },
   {
    "duration": 3,
    "start_time": "2024-12-04T00:02:28.418Z"
   },
   {
    "duration": 8,
    "start_time": "2024-12-04T00:02:28.424Z"
   },
   {
    "duration": 5,
    "start_time": "2024-12-04T00:02:28.433Z"
   },
   {
    "duration": 2,
    "start_time": "2024-12-04T00:02:28.439Z"
   },
   {
    "duration": 2,
    "start_time": "2024-12-04T00:02:28.443Z"
   },
   {
    "duration": 4,
    "start_time": "2024-12-04T00:02:28.447Z"
   },
   {
    "duration": 4,
    "start_time": "2024-12-04T00:02:28.453Z"
   },
   {
    "duration": 8,
    "start_time": "2024-12-04T00:02:28.507Z"
   },
   {
    "duration": 16,
    "start_time": "2024-12-04T00:02:28.516Z"
   },
   {
    "duration": 180,
    "start_time": "2024-12-04T00:02:28.533Z"
   },
   {
    "duration": 954,
    "start_time": "2024-12-04T00:02:28.715Z"
   },
   {
    "duration": 2561,
    "start_time": "2024-12-04T00:02:29.671Z"
   },
   {
    "duration": 3,
    "start_time": "2024-12-04T00:02:32.234Z"
   },
   {
    "duration": 4,
    "start_time": "2024-12-04T00:02:32.239Z"
   },
   {
    "duration": 12,
    "start_time": "2024-12-04T00:02:32.245Z"
   },
   {
    "duration": 10,
    "start_time": "2024-12-04T00:02:32.258Z"
   },
   {
    "duration": 35,
    "start_time": "2024-12-04T00:02:32.270Z"
   },
   {
    "duration": 10,
    "start_time": "2024-12-04T00:02:32.307Z"
   },
   {
    "duration": 268,
    "start_time": "2024-12-04T00:02:32.319Z"
   },
   {
    "duration": 0,
    "start_time": "2024-12-04T00:02:32.588Z"
   },
   {
    "duration": 0,
    "start_time": "2024-12-04T00:02:32.589Z"
   },
   {
    "duration": 0,
    "start_time": "2024-12-04T00:02:32.591Z"
   },
   {
    "duration": 0,
    "start_time": "2024-12-04T00:02:32.592Z"
   },
   {
    "duration": 0,
    "start_time": "2024-12-04T00:02:32.605Z"
   },
   {
    "duration": 0,
    "start_time": "2024-12-04T00:02:32.607Z"
   },
   {
    "duration": 0,
    "start_time": "2024-12-04T00:02:32.608Z"
   },
   {
    "duration": 0,
    "start_time": "2024-12-04T00:02:32.609Z"
   },
   {
    "duration": 0,
    "start_time": "2024-12-04T00:02:32.610Z"
   },
   {
    "duration": 0,
    "start_time": "2024-12-04T00:02:32.611Z"
   },
   {
    "duration": 0,
    "start_time": "2024-12-04T00:02:32.612Z"
   },
   {
    "duration": 0,
    "start_time": "2024-12-04T00:02:32.613Z"
   },
   {
    "duration": 0,
    "start_time": "2024-12-04T00:02:32.614Z"
   },
   {
    "duration": 11,
    "start_time": "2024-12-04T00:03:15.340Z"
   },
   {
    "duration": 11,
    "start_time": "2024-12-04T00:04:07.918Z"
   },
   {
    "duration": 11,
    "start_time": "2024-12-04T00:04:10.039Z"
   },
   {
    "duration": 4,
    "start_time": "2024-12-04T00:10:21.945Z"
   },
   {
    "duration": 12,
    "start_time": "2024-12-04T00:10:24.046Z"
   },
   {
    "duration": 11,
    "start_time": "2024-12-04T00:10:31.086Z"
   },
   {
    "duration": 111,
    "start_time": "2024-12-04T00:12:46.047Z"
   },
   {
    "duration": 11,
    "start_time": "2024-12-04T00:12:52.586Z"
   },
   {
    "duration": 161,
    "start_time": "2024-12-06T00:45:14.873Z"
   },
   {
    "duration": 3,
    "start_time": "2024-12-06T00:45:21.075Z"
   },
   {
    "duration": 2706,
    "start_time": "2024-12-06T00:45:21.080Z"
   },
   {
    "duration": 13,
    "start_time": "2024-12-06T00:45:23.788Z"
   },
   {
    "duration": 4,
    "start_time": "2024-12-06T00:45:23.802Z"
   },
   {
    "duration": 20,
    "start_time": "2024-12-06T00:45:23.808Z"
   },
   {
    "duration": 23,
    "start_time": "2024-12-06T00:45:23.829Z"
   },
   {
    "duration": 3,
    "start_time": "2024-12-06T00:45:23.853Z"
   },
   {
    "duration": 10,
    "start_time": "2024-12-06T00:45:23.858Z"
   },
   {
    "duration": 5,
    "start_time": "2024-12-06T00:45:23.871Z"
   },
   {
    "duration": 2,
    "start_time": "2024-12-06T00:45:23.878Z"
   },
   {
    "duration": 2,
    "start_time": "2024-12-06T00:45:23.884Z"
   },
   {
    "duration": 5,
    "start_time": "2024-12-06T00:45:23.888Z"
   },
   {
    "duration": 48,
    "start_time": "2024-12-06T00:45:23.895Z"
   },
   {
    "duration": 5,
    "start_time": "2024-12-06T00:45:23.945Z"
   },
   {
    "duration": 14,
    "start_time": "2024-12-06T00:45:23.952Z"
   },
   {
    "duration": 185,
    "start_time": "2024-12-06T00:45:23.968Z"
   },
   {
    "duration": 968,
    "start_time": "2024-12-06T00:45:24.155Z"
   },
   {
    "duration": 2588,
    "start_time": "2024-12-06T00:45:25.125Z"
   },
   {
    "duration": 3,
    "start_time": "2024-12-06T00:45:27.715Z"
   },
   {
    "duration": 4,
    "start_time": "2024-12-06T00:45:27.721Z"
   },
   {
    "duration": 20,
    "start_time": "2024-12-06T00:45:27.727Z"
   },
   {
    "duration": 10,
    "start_time": "2024-12-06T00:45:27.749Z"
   },
   {
    "duration": 10,
    "start_time": "2024-12-06T00:45:27.761Z"
   },
   {
    "duration": 11,
    "start_time": "2024-12-06T00:45:27.773Z"
   },
   {
    "duration": 8,
    "start_time": "2024-12-06T00:45:27.785Z"
   },
   {
    "duration": 9,
    "start_time": "2024-12-06T00:45:27.795Z"
   },
   {
    "duration": 5,
    "start_time": "2024-12-06T00:45:27.843Z"
   },
   {
    "duration": 0,
    "start_time": "2024-12-06T00:45:27.850Z"
   },
   {
    "duration": 0,
    "start_time": "2024-12-06T00:45:27.852Z"
   },
   {
    "duration": 0,
    "start_time": "2024-12-06T00:45:27.853Z"
   },
   {
    "duration": 0,
    "start_time": "2024-12-06T00:45:27.855Z"
   },
   {
    "duration": 0,
    "start_time": "2024-12-06T00:45:27.856Z"
   },
   {
    "duration": 0,
    "start_time": "2024-12-06T00:45:27.857Z"
   },
   {
    "duration": 0,
    "start_time": "2024-12-06T00:45:27.859Z"
   },
   {
    "duration": 0,
    "start_time": "2024-12-06T00:45:27.860Z"
   },
   {
    "duration": 0,
    "start_time": "2024-12-06T00:45:27.861Z"
   },
   {
    "duration": 0,
    "start_time": "2024-12-06T00:45:27.863Z"
   },
   {
    "duration": 4,
    "start_time": "2024-12-06T00:47:22.452Z"
   },
   {
    "duration": 5,
    "start_time": "2024-12-06T00:50:08.973Z"
   },
   {
    "duration": 4,
    "start_time": "2024-12-06T00:53:38.323Z"
   },
   {
    "duration": 3,
    "start_time": "2024-12-06T00:54:50.753Z"
   },
   {
    "duration": 1073,
    "start_time": "2024-12-06T00:54:50.759Z"
   },
   {
    "duration": 12,
    "start_time": "2024-12-06T00:54:51.835Z"
   },
   {
    "duration": 3,
    "start_time": "2024-12-06T00:54:51.849Z"
   },
   {
    "duration": 14,
    "start_time": "2024-12-06T00:54:51.854Z"
   },
   {
    "duration": 10,
    "start_time": "2024-12-06T00:54:51.871Z"
   },
   {
    "duration": 3,
    "start_time": "2024-12-06T00:54:51.882Z"
   },
   {
    "duration": 7,
    "start_time": "2024-12-06T00:54:51.887Z"
   },
   {
    "duration": 6,
    "start_time": "2024-12-06T00:54:51.896Z"
   },
   {
    "duration": 39,
    "start_time": "2024-12-06T00:54:51.904Z"
   },
   {
    "duration": 3,
    "start_time": "2024-12-06T00:54:51.945Z"
   },
   {
    "duration": 7,
    "start_time": "2024-12-06T00:54:51.950Z"
   },
   {
    "duration": 6,
    "start_time": "2024-12-06T00:54:51.960Z"
   },
   {
    "duration": 4,
    "start_time": "2024-12-06T00:54:51.968Z"
   },
   {
    "duration": 12,
    "start_time": "2024-12-06T00:54:51.978Z"
   },
   {
    "duration": 201,
    "start_time": "2024-12-06T00:54:51.991Z"
   },
   {
    "duration": 941,
    "start_time": "2024-12-06T00:54:52.194Z"
   },
   {
    "duration": 2564,
    "start_time": "2024-12-06T00:54:53.137Z"
   },
   {
    "duration": 3,
    "start_time": "2024-12-06T00:54:55.704Z"
   },
   {
    "duration": 5,
    "start_time": "2024-12-06T00:54:55.708Z"
   },
   {
    "duration": 28,
    "start_time": "2024-12-06T00:54:55.715Z"
   },
   {
    "duration": 14,
    "start_time": "2024-12-06T00:54:55.745Z"
   },
   {
    "duration": 10,
    "start_time": "2024-12-06T00:54:55.760Z"
   },
   {
    "duration": 11,
    "start_time": "2024-12-06T00:54:55.772Z"
   },
   {
    "duration": 8,
    "start_time": "2024-12-06T00:54:55.785Z"
   },
   {
    "duration": 8,
    "start_time": "2024-12-06T00:54:55.795Z"
   },
   {
    "duration": 39,
    "start_time": "2024-12-06T00:54:55.804Z"
   },
   {
    "duration": 5,
    "start_time": "2024-12-06T00:54:55.845Z"
   },
   {
    "duration": 3,
    "start_time": "2024-12-06T00:54:55.851Z"
   },
   {
    "duration": 3,
    "start_time": "2024-12-06T00:54:55.856Z"
   },
   {
    "duration": 5,
    "start_time": "2024-12-06T00:54:55.861Z"
   },
   {
    "duration": 1,
    "start_time": "2024-12-06T00:54:55.867Z"
   },
   {
    "duration": 0,
    "start_time": "2024-12-06T00:54:55.869Z"
   },
   {
    "duration": 0,
    "start_time": "2024-12-06T00:54:55.871Z"
   },
   {
    "duration": 0,
    "start_time": "2024-12-06T00:54:55.872Z"
   },
   {
    "duration": 0,
    "start_time": "2024-12-06T00:54:55.874Z"
   },
   {
    "duration": 0,
    "start_time": "2024-12-06T00:54:55.875Z"
   },
   {
    "duration": 5,
    "start_time": "2024-12-06T00:55:20.022Z"
   },
   {
    "duration": 4,
    "start_time": "2024-12-06T00:56:26.369Z"
   },
   {
    "duration": 6,
    "start_time": "2024-12-06T00:56:28.260Z"
   },
   {
    "duration": 80,
    "start_time": "2024-12-06T00:59:52.277Z"
   },
   {
    "duration": 3,
    "start_time": "2024-12-06T01:00:46.406Z"
   },
   {
    "duration": 154,
    "start_time": "2024-12-06T01:00:48.713Z"
   },
   {
    "duration": 26,
    "start_time": "2024-12-06T01:03:09.359Z"
   },
   {
    "duration": 3,
    "start_time": "2024-12-06T01:03:18.253Z"
   },
   {
    "duration": 78,
    "start_time": "2024-12-06T01:03:20.661Z"
   },
   {
    "duration": 3,
    "start_time": "2024-12-06T01:06:48.432Z"
   },
   {
    "duration": 994,
    "start_time": "2024-12-06T01:06:48.437Z"
   },
   {
    "duration": 14,
    "start_time": "2024-12-06T01:06:49.433Z"
   },
   {
    "duration": 3,
    "start_time": "2024-12-06T01:06:49.450Z"
   },
   {
    "duration": 14,
    "start_time": "2024-12-06T01:06:49.455Z"
   },
   {
    "duration": 9,
    "start_time": "2024-12-06T01:06:49.471Z"
   },
   {
    "duration": 3,
    "start_time": "2024-12-06T01:06:49.481Z"
   },
   {
    "duration": 8,
    "start_time": "2024-12-06T01:06:49.485Z"
   },
   {
    "duration": 5,
    "start_time": "2024-12-06T01:06:49.497Z"
   },
   {
    "duration": 2,
    "start_time": "2024-12-06T01:06:49.503Z"
   },
   {
    "duration": 3,
    "start_time": "2024-12-06T01:06:49.544Z"
   },
   {
    "duration": 6,
    "start_time": "2024-12-06T01:06:49.549Z"
   },
   {
    "duration": 9,
    "start_time": "2024-12-06T01:06:49.556Z"
   },
   {
    "duration": 6,
    "start_time": "2024-12-06T01:06:49.567Z"
   },
   {
    "duration": 11,
    "start_time": "2024-12-06T01:06:49.574Z"
   },
   {
    "duration": 199,
    "start_time": "2024-12-06T01:06:49.587Z"
   },
   {
    "duration": 955,
    "start_time": "2024-12-06T01:06:49.788Z"
   },
   {
    "duration": 2577,
    "start_time": "2024-12-06T01:06:50.745Z"
   },
   {
    "duration": 3,
    "start_time": "2024-12-06T01:06:53.324Z"
   },
   {
    "duration": 4,
    "start_time": "2024-12-06T01:06:53.342Z"
   },
   {
    "duration": 250,
    "start_time": "2024-12-06T01:06:53.348Z"
   },
   {
    "duration": 0,
    "start_time": "2024-12-06T01:06:53.601Z"
   },
   {
    "duration": 0,
    "start_time": "2024-12-06T01:06:53.603Z"
   },
   {
    "duration": 0,
    "start_time": "2024-12-06T01:06:53.604Z"
   },
   {
    "duration": 0,
    "start_time": "2024-12-06T01:06:53.606Z"
   },
   {
    "duration": 0,
    "start_time": "2024-12-06T01:06:53.607Z"
   },
   {
    "duration": 0,
    "start_time": "2024-12-06T01:06:53.609Z"
   },
   {
    "duration": 0,
    "start_time": "2024-12-06T01:06:53.610Z"
   },
   {
    "duration": 0,
    "start_time": "2024-12-06T01:06:53.611Z"
   },
   {
    "duration": 0,
    "start_time": "2024-12-06T01:06:53.612Z"
   },
   {
    "duration": 0,
    "start_time": "2024-12-06T01:06:53.613Z"
   },
   {
    "duration": 0,
    "start_time": "2024-12-06T01:06:53.614Z"
   },
   {
    "duration": 0,
    "start_time": "2024-12-06T01:06:53.616Z"
   },
   {
    "duration": 0,
    "start_time": "2024-12-06T01:06:53.616Z"
   },
   {
    "duration": 0,
    "start_time": "2024-12-06T01:06:53.617Z"
   },
   {
    "duration": 0,
    "start_time": "2024-12-06T01:06:53.642Z"
   },
   {
    "duration": 0,
    "start_time": "2024-12-06T01:06:53.644Z"
   },
   {
    "duration": 3,
    "start_time": "2024-12-06T01:08:24.306Z"
   },
   {
    "duration": 1035,
    "start_time": "2024-12-06T01:08:24.311Z"
   },
   {
    "duration": 9,
    "start_time": "2024-12-06T01:08:25.348Z"
   },
   {
    "duration": 3,
    "start_time": "2024-12-06T01:08:25.359Z"
   },
   {
    "duration": 14,
    "start_time": "2024-12-06T01:08:25.364Z"
   },
   {
    "duration": 9,
    "start_time": "2024-12-06T01:08:25.380Z"
   },
   {
    "duration": 3,
    "start_time": "2024-12-06T01:08:25.391Z"
   },
   {
    "duration": 9,
    "start_time": "2024-12-06T01:08:25.395Z"
   },
   {
    "duration": 37,
    "start_time": "2024-12-06T01:08:25.405Z"
   },
   {
    "duration": 2,
    "start_time": "2024-12-06T01:08:25.444Z"
   },
   {
    "duration": 3,
    "start_time": "2024-12-06T01:08:25.448Z"
   },
   {
    "duration": 7,
    "start_time": "2024-12-06T01:08:25.453Z"
   },
   {
    "duration": 4,
    "start_time": "2024-12-06T01:08:25.461Z"
   },
   {
    "duration": 5,
    "start_time": "2024-12-06T01:08:25.469Z"
   },
   {
    "duration": 13,
    "start_time": "2024-12-06T01:08:25.475Z"
   },
   {
    "duration": 207,
    "start_time": "2024-12-06T01:08:25.489Z"
   },
   {
    "duration": 946,
    "start_time": "2024-12-06T01:08:25.697Z"
   },
   {
    "duration": 2607,
    "start_time": "2024-12-06T01:08:26.645Z"
   },
   {
    "duration": 3,
    "start_time": "2024-12-06T01:08:29.254Z"
   },
   {
    "duration": 5,
    "start_time": "2024-12-06T01:08:29.260Z"
   },
   {
    "duration": 12,
    "start_time": "2024-12-06T01:08:29.266Z"
   },
   {
    "duration": 11,
    "start_time": "2024-12-06T01:08:29.280Z"
   },
   {
    "duration": 11,
    "start_time": "2024-12-06T01:08:29.293Z"
   },
   {
    "duration": 41,
    "start_time": "2024-12-06T01:08:29.305Z"
   },
   {
    "duration": 10,
    "start_time": "2024-12-06T01:08:29.351Z"
   },
   {
    "duration": 9,
    "start_time": "2024-12-06T01:08:29.363Z"
   },
   {
    "duration": 9,
    "start_time": "2024-12-06T01:08:29.374Z"
   },
   {
    "duration": 100,
    "start_time": "2024-12-06T01:08:29.385Z"
   },
   {
    "duration": 3,
    "start_time": "2024-12-06T01:08:29.486Z"
   },
   {
    "duration": 3,
    "start_time": "2024-12-06T01:08:29.491Z"
   },
   {
    "duration": 5,
    "start_time": "2024-12-06T01:08:29.495Z"
   },
   {
    "duration": 0,
    "start_time": "2024-12-06T01:08:29.502Z"
   },
   {
    "duration": 0,
    "start_time": "2024-12-06T01:08:29.503Z"
   },
   {
    "duration": 0,
    "start_time": "2024-12-06T01:08:29.505Z"
   },
   {
    "duration": 0,
    "start_time": "2024-12-06T01:08:29.505Z"
   },
   {
    "duration": 0,
    "start_time": "2024-12-06T01:08:29.507Z"
   },
   {
    "duration": 0,
    "start_time": "2024-12-06T01:08:29.508Z"
   },
   {
    "duration": 79,
    "start_time": "2024-12-06T01:15:18.763Z"
   },
   {
    "duration": 3,
    "start_time": "2024-12-06T01:53:51.640Z"
   },
   {
    "duration": 3,
    "start_time": "2024-12-06T01:53:54.834Z"
   },
   {
    "duration": 326,
    "start_time": "2024-12-06T01:55:48.328Z"
   },
   {
    "duration": 3,
    "start_time": "2024-12-06T02:03:41.367Z"
   },
   {
    "duration": 15,
    "start_time": "2024-12-06T02:05:31.034Z"
   },
   {
    "duration": 490,
    "start_time": "2024-12-06T02:08:05.323Z"
   },
   {
    "duration": 40,
    "start_time": "2024-12-06T02:08:43.127Z"
   },
   {
    "duration": 4,
    "start_time": "2024-12-06T02:09:01.153Z"
   },
   {
    "duration": 1065,
    "start_time": "2024-12-06T02:09:01.161Z"
   },
   {
    "duration": 10,
    "start_time": "2024-12-06T02:09:02.229Z"
   },
   {
    "duration": 4,
    "start_time": "2024-12-06T02:09:02.243Z"
   },
   {
    "duration": 16,
    "start_time": "2024-12-06T02:09:02.250Z"
   },
   {
    "duration": 10,
    "start_time": "2024-12-06T02:09:02.267Z"
   },
   {
    "duration": 4,
    "start_time": "2024-12-06T02:09:02.279Z"
   },
   {
    "duration": 11,
    "start_time": "2024-12-06T02:09:02.284Z"
   },
   {
    "duration": 6,
    "start_time": "2024-12-06T02:09:02.297Z"
   },
   {
    "duration": 38,
    "start_time": "2024-12-06T02:09:02.305Z"
   },
   {
    "duration": 2,
    "start_time": "2024-12-06T02:09:02.345Z"
   },
   {
    "duration": 5,
    "start_time": "2024-12-06T02:09:02.349Z"
   },
   {
    "duration": 5,
    "start_time": "2024-12-06T02:09:02.356Z"
   },
   {
    "duration": 5,
    "start_time": "2024-12-06T02:09:02.365Z"
   },
   {
    "duration": 11,
    "start_time": "2024-12-06T02:09:02.372Z"
   },
   {
    "duration": 204,
    "start_time": "2024-12-06T02:09:02.384Z"
   },
   {
    "duration": 944,
    "start_time": "2024-12-06T02:09:02.591Z"
   },
   {
    "duration": 2608,
    "start_time": "2024-12-06T02:09:03.537Z"
   },
   {
    "duration": 3,
    "start_time": "2024-12-06T02:09:06.147Z"
   },
   {
    "duration": 5,
    "start_time": "2024-12-06T02:09:06.151Z"
   },
   {
    "duration": 11,
    "start_time": "2024-12-06T02:09:06.158Z"
   },
   {
    "duration": 10,
    "start_time": "2024-12-06T02:09:06.171Z"
   },
   {
    "duration": 12,
    "start_time": "2024-12-06T02:09:06.183Z"
   },
   {
    "duration": 10,
    "start_time": "2024-12-06T02:09:06.196Z"
   },
   {
    "duration": 8,
    "start_time": "2024-12-06T02:09:06.243Z"
   },
   {
    "duration": 8,
    "start_time": "2024-12-06T02:09:06.252Z"
   },
   {
    "duration": 3,
    "start_time": "2024-12-06T02:09:06.262Z"
   },
   {
    "duration": 100,
    "start_time": "2024-12-06T02:09:06.267Z"
   },
   {
    "duration": 717,
    "start_time": "2024-12-06T02:09:06.368Z"
   },
   {
    "duration": 0,
    "start_time": "2024-12-06T02:09:07.087Z"
   },
   {
    "duration": 0,
    "start_time": "2024-12-06T02:09:07.088Z"
   },
   {
    "duration": 0,
    "start_time": "2024-12-06T02:09:07.089Z"
   },
   {
    "duration": 0,
    "start_time": "2024-12-06T02:09:07.090Z"
   },
   {
    "duration": 0,
    "start_time": "2024-12-06T02:09:07.091Z"
   },
   {
    "duration": 1,
    "start_time": "2024-12-06T02:09:07.093Z"
   },
   {
    "duration": 0,
    "start_time": "2024-12-06T02:09:07.095Z"
   },
   {
    "duration": 0,
    "start_time": "2024-12-06T02:09:07.096Z"
   },
   {
    "duration": 0,
    "start_time": "2024-12-06T02:09:07.097Z"
   },
   {
    "duration": 0,
    "start_time": "2024-12-06T02:09:07.099Z"
   },
   {
    "duration": 0,
    "start_time": "2024-12-06T02:09:07.100Z"
   },
   {
    "duration": 160,
    "start_time": "2024-12-06T02:09:25.223Z"
   },
   {
    "duration": 2,
    "start_time": "2024-12-06T02:09:33.708Z"
   },
   {
    "duration": 1013,
    "start_time": "2024-12-06T02:09:33.713Z"
   },
   {
    "duration": 6,
    "start_time": "2024-12-06T02:09:34.728Z"
   },
   {
    "duration": 7,
    "start_time": "2024-12-06T02:09:34.736Z"
   },
   {
    "duration": 14,
    "start_time": "2024-12-06T02:09:34.746Z"
   },
   {
    "duration": 10,
    "start_time": "2024-12-06T02:09:34.761Z"
   },
   {
    "duration": 3,
    "start_time": "2024-12-06T02:09:34.773Z"
   },
   {
    "duration": 10,
    "start_time": "2024-12-06T02:09:34.777Z"
   },
   {
    "duration": 5,
    "start_time": "2024-12-06T02:09:34.788Z"
   },
   {
    "duration": 3,
    "start_time": "2024-12-06T02:09:34.794Z"
   },
   {
    "duration": 2,
    "start_time": "2024-12-06T02:09:34.801Z"
   },
   {
    "duration": 42,
    "start_time": "2024-12-06T02:09:34.804Z"
   },
   {
    "duration": 7,
    "start_time": "2024-12-06T02:09:34.848Z"
   },
   {
    "duration": 5,
    "start_time": "2024-12-06T02:09:34.858Z"
   },
   {
    "duration": 14,
    "start_time": "2024-12-06T02:09:34.864Z"
   },
   {
    "duration": 201,
    "start_time": "2024-12-06T02:09:34.880Z"
   },
   {
    "duration": 960,
    "start_time": "2024-12-06T02:09:35.083Z"
   },
   {
    "duration": 2569,
    "start_time": "2024-12-06T02:09:36.045Z"
   },
   {
    "duration": 3,
    "start_time": "2024-12-06T02:09:38.616Z"
   },
   {
    "duration": 4,
    "start_time": "2024-12-06T02:09:38.620Z"
   },
   {
    "duration": 24,
    "start_time": "2024-12-06T02:09:38.626Z"
   },
   {
    "duration": 10,
    "start_time": "2024-12-06T02:09:38.652Z"
   },
   {
    "duration": 10,
    "start_time": "2024-12-06T02:09:38.664Z"
   },
   {
    "duration": 10,
    "start_time": "2024-12-06T02:09:38.676Z"
   },
   {
    "duration": 10,
    "start_time": "2024-12-06T02:09:38.687Z"
   },
   {
    "duration": 43,
    "start_time": "2024-12-06T02:09:38.699Z"
   },
   {
    "duration": 3,
    "start_time": "2024-12-06T02:09:38.744Z"
   },
   {
    "duration": 80,
    "start_time": "2024-12-06T02:09:38.749Z"
   },
   {
    "duration": 686,
    "start_time": "2024-12-06T02:09:38.846Z"
   },
   {
    "duration": 1,
    "start_time": "2024-12-06T02:09:39.533Z"
   },
   {
    "duration": 0,
    "start_time": "2024-12-06T02:09:39.535Z"
   },
   {
    "duration": 0,
    "start_time": "2024-12-06T02:09:39.536Z"
   },
   {
    "duration": 0,
    "start_time": "2024-12-06T02:09:39.542Z"
   },
   {
    "duration": 0,
    "start_time": "2024-12-06T02:09:39.544Z"
   },
   {
    "duration": 0,
    "start_time": "2024-12-06T02:09:39.545Z"
   },
   {
    "duration": 0,
    "start_time": "2024-12-06T02:09:39.546Z"
   },
   {
    "duration": 0,
    "start_time": "2024-12-06T02:09:39.548Z"
   },
   {
    "duration": 0,
    "start_time": "2024-12-06T02:09:39.549Z"
   },
   {
    "duration": 0,
    "start_time": "2024-12-06T02:09:39.550Z"
   },
   {
    "duration": 0,
    "start_time": "2024-12-06T02:09:39.551Z"
   },
   {
    "duration": 4,
    "start_time": "2024-12-06T02:10:41.979Z"
   },
   {
    "duration": 5,
    "start_time": "2024-12-06T02:10:45.189Z"
   },
   {
    "duration": 164,
    "start_time": "2024-12-06T02:11:00.348Z"
   },
   {
    "duration": 3,
    "start_time": "2024-12-06T02:11:22.817Z"
   },
   {
    "duration": 7,
    "start_time": "2024-12-06T02:11:51.098Z"
   },
   {
    "duration": 4,
    "start_time": "2024-12-06T02:12:03.436Z"
   },
   {
    "duration": 5,
    "start_time": "2024-12-06T02:12:06.582Z"
   },
   {
    "duration": 6,
    "start_time": "2024-12-06T02:12:09.685Z"
   },
   {
    "duration": 2,
    "start_time": "2024-12-06T02:12:14.186Z"
   },
   {
    "duration": 18,
    "start_time": "2024-12-06T02:14:43.646Z"
   },
   {
    "duration": 3,
    "start_time": "2024-12-06T02:15:21.846Z"
   },
   {
    "duration": 3,
    "start_time": "2024-12-06T02:15:28.212Z"
   },
   {
    "duration": 999,
    "start_time": "2024-12-06T02:15:28.219Z"
   },
   {
    "duration": 8,
    "start_time": "2024-12-06T02:15:29.220Z"
   },
   {
    "duration": 3,
    "start_time": "2024-12-06T02:15:29.230Z"
   },
   {
    "duration": 14,
    "start_time": "2024-12-06T02:15:29.243Z"
   },
   {
    "duration": 9,
    "start_time": "2024-12-06T02:15:29.260Z"
   },
   {
    "duration": 3,
    "start_time": "2024-12-06T02:15:29.271Z"
   },
   {
    "duration": 8,
    "start_time": "2024-12-06T02:15:29.275Z"
   },
   {
    "duration": 5,
    "start_time": "2024-12-06T02:15:29.285Z"
   },
   {
    "duration": 2,
    "start_time": "2024-12-06T02:15:29.291Z"
   },
   {
    "duration": 2,
    "start_time": "2024-12-06T02:15:29.295Z"
   },
   {
    "duration": 48,
    "start_time": "2024-12-06T02:15:29.299Z"
   },
   {
    "duration": 6,
    "start_time": "2024-12-06T02:15:29.350Z"
   },
   {
    "duration": 5,
    "start_time": "2024-12-06T02:15:29.358Z"
   },
   {
    "duration": 11,
    "start_time": "2024-12-06T02:15:29.367Z"
   },
   {
    "duration": 187,
    "start_time": "2024-12-06T02:15:29.379Z"
   },
   {
    "duration": 977,
    "start_time": "2024-12-06T02:15:29.568Z"
   },
   {
    "duration": 2588,
    "start_time": "2024-12-06T02:15:30.546Z"
   },
   {
    "duration": 7,
    "start_time": "2024-12-06T02:15:33.136Z"
   },
   {
    "duration": 5,
    "start_time": "2024-12-06T02:15:33.145Z"
   },
   {
    "duration": 12,
    "start_time": "2024-12-06T02:15:33.152Z"
   },
   {
    "duration": 12,
    "start_time": "2024-12-06T02:15:33.166Z"
   },
   {
    "duration": 11,
    "start_time": "2024-12-06T02:15:33.180Z"
   },
   {
    "duration": 12,
    "start_time": "2024-12-06T02:15:33.192Z"
   },
   {
    "duration": 42,
    "start_time": "2024-12-06T02:15:33.206Z"
   },
   {
    "duration": 9,
    "start_time": "2024-12-06T02:15:33.250Z"
   },
   {
    "duration": 4,
    "start_time": "2024-12-06T02:15:33.260Z"
   },
   {
    "duration": 684,
    "start_time": "2024-12-06T02:15:33.265Z"
   },
   {
    "duration": 0,
    "start_time": "2024-12-06T02:15:33.951Z"
   },
   {
    "duration": 0,
    "start_time": "2024-12-06T02:15:33.952Z"
   },
   {
    "duration": 0,
    "start_time": "2024-12-06T02:15:33.953Z"
   },
   {
    "duration": 0,
    "start_time": "2024-12-06T02:15:33.954Z"
   },
   {
    "duration": 0,
    "start_time": "2024-12-06T02:15:33.955Z"
   },
   {
    "duration": 0,
    "start_time": "2024-12-06T02:15:33.956Z"
   },
   {
    "duration": 0,
    "start_time": "2024-12-06T02:15:33.957Z"
   },
   {
    "duration": 0,
    "start_time": "2024-12-06T02:15:33.959Z"
   },
   {
    "duration": 0,
    "start_time": "2024-12-06T02:15:33.961Z"
   },
   {
    "duration": 0,
    "start_time": "2024-12-06T02:15:33.962Z"
   },
   {
    "duration": 0,
    "start_time": "2024-12-06T02:15:33.964Z"
   },
   {
    "duration": 0,
    "start_time": "2024-12-06T02:15:33.967Z"
   },
   {
    "duration": 0,
    "start_time": "2024-12-06T02:15:33.968Z"
   },
   {
    "duration": 43,
    "start_time": "2024-12-06T02:16:09.554Z"
   },
   {
    "duration": 43,
    "start_time": "2024-12-06T02:16:18.890Z"
   },
   {
    "duration": 4,
    "start_time": "2024-12-06T02:16:41.265Z"
   },
   {
    "duration": 43,
    "start_time": "2024-12-06T02:16:44.339Z"
   },
   {
    "duration": 43,
    "start_time": "2024-12-06T02:17:17.353Z"
   },
   {
    "duration": 4,
    "start_time": "2024-12-06T02:18:02.658Z"
   },
   {
    "duration": 84,
    "start_time": "2024-12-06T02:18:05.223Z"
   },
   {
    "duration": 4,
    "start_time": "2024-12-06T02:18:16.002Z"
   },
   {
    "duration": 5,
    "start_time": "2024-12-06T02:18:22.805Z"
   },
   {
    "duration": 4,
    "start_time": "2024-12-06T02:18:29.346Z"
   },
   {
    "duration": 1064,
    "start_time": "2024-12-06T02:18:29.352Z"
   },
   {
    "duration": 7,
    "start_time": "2024-12-06T02:18:30.418Z"
   },
   {
    "duration": 3,
    "start_time": "2024-12-06T02:18:30.427Z"
   },
   {
    "duration": 23,
    "start_time": "2024-12-06T02:18:30.432Z"
   },
   {
    "duration": 11,
    "start_time": "2024-12-06T02:18:30.456Z"
   },
   {
    "duration": 3,
    "start_time": "2024-12-06T02:18:30.468Z"
   },
   {
    "duration": 8,
    "start_time": "2024-12-06T02:18:30.473Z"
   },
   {
    "duration": 8,
    "start_time": "2024-12-06T02:18:30.485Z"
   },
   {
    "duration": 2,
    "start_time": "2024-12-06T02:18:30.495Z"
   },
   {
    "duration": 2,
    "start_time": "2024-12-06T02:18:30.500Z"
   },
   {
    "duration": 45,
    "start_time": "2024-12-06T02:18:30.504Z"
   },
   {
    "duration": 5,
    "start_time": "2024-12-06T02:18:30.551Z"
   },
   {
    "duration": 5,
    "start_time": "2024-12-06T02:18:30.558Z"
   },
   {
    "duration": 13,
    "start_time": "2024-12-06T02:18:30.564Z"
   },
   {
    "duration": 202,
    "start_time": "2024-12-06T02:18:30.578Z"
   },
   {
    "duration": 941,
    "start_time": "2024-12-06T02:18:30.782Z"
   },
   {
    "duration": 2533,
    "start_time": "2024-12-06T02:18:31.725Z"
   },
   {
    "duration": 3,
    "start_time": "2024-12-06T02:18:34.260Z"
   },
   {
    "duration": 4,
    "start_time": "2024-12-06T02:18:34.266Z"
   },
   {
    "duration": 11,
    "start_time": "2024-12-06T02:18:34.272Z"
   },
   {
    "duration": 10,
    "start_time": "2024-12-06T02:18:34.285Z"
   },
   {
    "duration": 11,
    "start_time": "2024-12-06T02:18:34.296Z"
   },
   {
    "duration": 11,
    "start_time": "2024-12-06T02:18:34.343Z"
   },
   {
    "duration": 11,
    "start_time": "2024-12-06T02:18:34.355Z"
   },
   {
    "duration": 9,
    "start_time": "2024-12-06T02:18:34.368Z"
   },
   {
    "duration": 3,
    "start_time": "2024-12-06T02:18:34.380Z"
   },
   {
    "duration": 103,
    "start_time": "2024-12-06T02:18:34.385Z"
   },
   {
    "duration": 662,
    "start_time": "2024-12-06T02:18:34.491Z"
   },
   {
    "duration": 0,
    "start_time": "2024-12-06T02:18:35.155Z"
   },
   {
    "duration": 0,
    "start_time": "2024-12-06T02:18:35.156Z"
   },
   {
    "duration": 0,
    "start_time": "2024-12-06T02:18:35.157Z"
   },
   {
    "duration": 0,
    "start_time": "2024-12-06T02:18:35.158Z"
   },
   {
    "duration": 0,
    "start_time": "2024-12-06T02:18:35.159Z"
   },
   {
    "duration": 0,
    "start_time": "2024-12-06T02:18:35.160Z"
   },
   {
    "duration": 0,
    "start_time": "2024-12-06T02:18:35.161Z"
   },
   {
    "duration": 0,
    "start_time": "2024-12-06T02:18:35.162Z"
   },
   {
    "duration": 0,
    "start_time": "2024-12-06T02:18:35.163Z"
   },
   {
    "duration": 0,
    "start_time": "2024-12-06T02:18:35.165Z"
   },
   {
    "duration": 0,
    "start_time": "2024-12-06T02:18:35.167Z"
   },
   {
    "duration": 0,
    "start_time": "2024-12-06T02:18:35.168Z"
   },
   {
    "duration": 4,
    "start_time": "2024-12-06T02:19:05.462Z"
   },
   {
    "duration": 3,
    "start_time": "2024-12-06T02:21:04.202Z"
   },
   {
    "duration": 188,
    "start_time": "2024-12-06T02:21:09.867Z"
   },
   {
    "duration": 4,
    "start_time": "2024-12-06T02:21:16.217Z"
   },
   {
    "duration": 3,
    "start_time": "2024-12-06T02:22:06.664Z"
   },
   {
    "duration": 3,
    "start_time": "2024-12-06T02:22:09.787Z"
   },
   {
    "duration": 18,
    "start_time": "2024-12-06T02:22:13.278Z"
   },
   {
    "duration": 14,
    "start_time": "2024-12-06T02:22:37.955Z"
   },
   {
    "duration": 15,
    "start_time": "2024-12-06T02:23:50.998Z"
   },
   {
    "duration": 4,
    "start_time": "2024-12-06T02:24:16.728Z"
   },
   {
    "duration": 983,
    "start_time": "2024-12-06T02:24:16.735Z"
   },
   {
    "duration": 11,
    "start_time": "2024-12-06T02:24:17.720Z"
   },
   {
    "duration": 11,
    "start_time": "2024-12-06T02:24:17.732Z"
   },
   {
    "duration": 14,
    "start_time": "2024-12-06T02:24:17.745Z"
   },
   {
    "duration": 9,
    "start_time": "2024-12-06T02:24:17.761Z"
   },
   {
    "duration": 3,
    "start_time": "2024-12-06T02:24:17.772Z"
   },
   {
    "duration": 8,
    "start_time": "2024-12-06T02:24:17.776Z"
   },
   {
    "duration": 5,
    "start_time": "2024-12-06T02:24:17.785Z"
   },
   {
    "duration": 2,
    "start_time": "2024-12-06T02:24:17.792Z"
   },
   {
    "duration": 3,
    "start_time": "2024-12-06T02:24:17.796Z"
   },
   {
    "duration": 43,
    "start_time": "2024-12-06T02:24:17.800Z"
   },
   {
    "duration": 4,
    "start_time": "2024-12-06T02:24:17.845Z"
   },
   {
    "duration": 4,
    "start_time": "2024-12-06T02:24:17.854Z"
   },
   {
    "duration": 11,
    "start_time": "2024-12-06T02:24:17.860Z"
   },
   {
    "duration": 195,
    "start_time": "2024-12-06T02:24:17.872Z"
   },
   {
    "duration": 975,
    "start_time": "2024-12-06T02:24:18.069Z"
   },
   {
    "duration": 2667,
    "start_time": "2024-12-06T02:24:19.046Z"
   },
   {
    "duration": 2,
    "start_time": "2024-12-06T02:24:21.715Z"
   },
   {
    "duration": 4,
    "start_time": "2024-12-06T02:24:21.719Z"
   },
   {
    "duration": 23,
    "start_time": "2024-12-06T02:24:21.725Z"
   },
   {
    "duration": 11,
    "start_time": "2024-12-06T02:24:21.750Z"
   },
   {
    "duration": 10,
    "start_time": "2024-12-06T02:24:21.763Z"
   },
   {
    "duration": 10,
    "start_time": "2024-12-06T02:24:21.775Z"
   },
   {
    "duration": 7,
    "start_time": "2024-12-06T02:24:21.787Z"
   },
   {
    "duration": 8,
    "start_time": "2024-12-06T02:24:21.795Z"
   },
   {
    "duration": 3,
    "start_time": "2024-12-06T02:24:21.843Z"
   },
   {
    "duration": 80,
    "start_time": "2024-12-06T02:24:21.848Z"
   },
   {
    "duration": 5,
    "start_time": "2024-12-06T02:24:21.942Z"
   },
   {
    "duration": 5,
    "start_time": "2024-12-06T02:24:21.948Z"
   },
   {
    "duration": 4,
    "start_time": "2024-12-06T02:24:21.955Z"
   },
   {
    "duration": 3,
    "start_time": "2024-12-06T02:24:21.961Z"
   },
   {
    "duration": 3,
    "start_time": "2024-12-06T02:24:21.965Z"
   },
   {
    "duration": 417,
    "start_time": "2024-12-06T02:24:21.970Z"
   },
   {
    "duration": 0,
    "start_time": "2024-12-06T02:24:22.389Z"
   },
   {
    "duration": 0,
    "start_time": "2024-12-06T02:24:22.390Z"
   },
   {
    "duration": 0,
    "start_time": "2024-12-06T02:24:22.392Z"
   },
   {
    "duration": 0,
    "start_time": "2024-12-06T02:24:22.393Z"
   },
   {
    "duration": 0,
    "start_time": "2024-12-06T02:24:22.394Z"
   },
   {
    "duration": 0,
    "start_time": "2024-12-06T02:24:22.395Z"
   },
   {
    "duration": 0,
    "start_time": "2024-12-06T02:24:22.396Z"
   },
   {
    "duration": 357,
    "start_time": "2024-12-06T02:27:13.709Z"
   },
   {
    "duration": 5,
    "start_time": "2024-12-06T02:28:05.467Z"
   },
   {
    "duration": 4,
    "start_time": "2024-12-06T02:28:09.420Z"
   },
   {
    "duration": 6,
    "start_time": "2024-12-06T02:28:13.926Z"
   },
   {
    "duration": 3,
    "start_time": "2024-12-06T02:28:17.752Z"
   },
   {
    "duration": 2,
    "start_time": "2024-12-06T02:28:19.334Z"
   },
   {
    "duration": 866,
    "start_time": "2024-12-06T02:28:22.957Z"
   },
   {
    "duration": 185,
    "start_time": "2024-12-06T02:28:48.055Z"
   },
   {
    "duration": 68,
    "start_time": "2024-12-06T02:30:30.000Z"
   },
   {
    "duration": 68,
    "start_time": "2024-12-06T02:30:35.583Z"
   },
   {
    "duration": 70,
    "start_time": "2024-12-06T02:30:44.600Z"
   },
   {
    "duration": 3,
    "start_time": "2024-12-06T02:31:07.589Z"
   },
   {
    "duration": 1030,
    "start_time": "2024-12-06T02:31:07.595Z"
   },
   {
    "duration": 7,
    "start_time": "2024-12-06T02:31:08.627Z"
   },
   {
    "duration": 7,
    "start_time": "2024-12-06T02:31:08.636Z"
   },
   {
    "duration": 13,
    "start_time": "2024-12-06T02:31:08.645Z"
   },
   {
    "duration": 9,
    "start_time": "2024-12-06T02:31:08.660Z"
   },
   {
    "duration": 3,
    "start_time": "2024-12-06T02:31:08.671Z"
   },
   {
    "duration": 8,
    "start_time": "2024-12-06T02:31:08.676Z"
   },
   {
    "duration": 5,
    "start_time": "2024-12-06T02:31:08.685Z"
   },
   {
    "duration": 2,
    "start_time": "2024-12-06T02:31:08.692Z"
   },
   {
    "duration": 2,
    "start_time": "2024-12-06T02:31:08.696Z"
   },
   {
    "duration": 44,
    "start_time": "2024-12-06T02:31:08.700Z"
   },
   {
    "duration": 5,
    "start_time": "2024-12-06T02:31:08.746Z"
   },
   {
    "duration": 5,
    "start_time": "2024-12-06T02:31:08.756Z"
   },
   {
    "duration": 12,
    "start_time": "2024-12-06T02:31:08.763Z"
   },
   {
    "duration": 207,
    "start_time": "2024-12-06T02:31:08.776Z"
   },
   {
    "duration": 942,
    "start_time": "2024-12-06T02:31:08.985Z"
   },
   {
    "duration": 2696,
    "start_time": "2024-12-06T02:31:09.929Z"
   },
   {
    "duration": 2,
    "start_time": "2024-12-06T02:31:12.627Z"
   },
   {
    "duration": 13,
    "start_time": "2024-12-06T02:31:12.631Z"
   },
   {
    "duration": 12,
    "start_time": "2024-12-06T02:31:12.646Z"
   },
   {
    "duration": 10,
    "start_time": "2024-12-06T02:31:12.660Z"
   },
   {
    "duration": 12,
    "start_time": "2024-12-06T02:31:12.671Z"
   },
   {
    "duration": 11,
    "start_time": "2024-12-06T02:31:12.684Z"
   },
   {
    "duration": 8,
    "start_time": "2024-12-06T02:31:12.697Z"
   },
   {
    "duration": 43,
    "start_time": "2024-12-06T02:31:12.706Z"
   },
   {
    "duration": 4,
    "start_time": "2024-12-06T02:31:12.752Z"
   },
   {
    "duration": 92,
    "start_time": "2024-12-06T02:31:12.757Z"
   },
   {
    "duration": 5,
    "start_time": "2024-12-06T02:31:12.851Z"
   },
   {
    "duration": 6,
    "start_time": "2024-12-06T02:31:12.858Z"
   },
   {
    "duration": 4,
    "start_time": "2024-12-06T02:31:12.866Z"
   },
   {
    "duration": 3,
    "start_time": "2024-12-06T02:31:12.872Z"
   },
   {
    "duration": 3,
    "start_time": "2024-12-06T02:31:12.876Z"
   },
   {
    "duration": 695,
    "start_time": "2024-12-06T02:31:12.880Z"
   },
   {
    "duration": 494,
    "start_time": "2024-12-06T02:31:13.576Z"
   },
   {
    "duration": 0,
    "start_time": "2024-12-06T02:31:14.072Z"
   },
   {
    "duration": 0,
    "start_time": "2024-12-06T02:31:14.073Z"
   },
   {
    "duration": 0,
    "start_time": "2024-12-06T02:31:14.075Z"
   },
   {
    "duration": 0,
    "start_time": "2024-12-06T02:31:14.076Z"
   },
   {
    "duration": 0,
    "start_time": "2024-12-06T02:31:14.078Z"
   },
   {
    "duration": 0,
    "start_time": "2024-12-06T02:31:14.080Z"
   },
   {
    "duration": 70,
    "start_time": "2024-12-06T02:32:05.322Z"
   },
   {
    "duration": 3,
    "start_time": "2024-12-06T02:34:27.884Z"
   },
   {
    "duration": 68,
    "start_time": "2024-12-06T02:34:36.552Z"
   },
   {
    "duration": 67,
    "start_time": "2024-12-06T02:36:02.218Z"
   },
   {
    "duration": 13,
    "start_time": "2024-12-06T02:36:37.331Z"
   },
   {
    "duration": 4,
    "start_time": "2024-12-06T02:42:54.558Z"
   },
   {
    "duration": 3,
    "start_time": "2024-12-06T02:43:13.589Z"
   },
   {
    "duration": 5,
    "start_time": "2024-12-06T02:43:40.391Z"
   },
   {
    "duration": 3,
    "start_time": "2024-12-06T02:44:43.223Z"
   },
   {
    "duration": 105,
    "start_time": "2024-12-06T02:45:24.145Z"
   },
   {
    "duration": 3,
    "start_time": "2024-12-06T02:46:07.769Z"
   },
   {
    "duration": 2,
    "start_time": "2024-12-06T02:46:14.100Z"
   },
   {
    "duration": 1014,
    "start_time": "2024-12-06T02:46:14.104Z"
   },
   {
    "duration": 8,
    "start_time": "2024-12-06T02:46:15.120Z"
   },
   {
    "duration": 3,
    "start_time": "2024-12-06T02:46:15.130Z"
   },
   {
    "duration": 14,
    "start_time": "2024-12-06T02:46:15.143Z"
   },
   {
    "duration": 9,
    "start_time": "2024-12-06T02:46:15.159Z"
   },
   {
    "duration": 3,
    "start_time": "2024-12-06T02:46:15.170Z"
   },
   {
    "duration": 10,
    "start_time": "2024-12-06T02:46:15.175Z"
   },
   {
    "duration": 8,
    "start_time": "2024-12-06T02:46:15.187Z"
   },
   {
    "duration": 2,
    "start_time": "2024-12-06T02:46:15.197Z"
   },
   {
    "duration": 2,
    "start_time": "2024-12-06T02:46:15.203Z"
   },
   {
    "duration": 38,
    "start_time": "2024-12-06T02:46:15.207Z"
   },
   {
    "duration": 4,
    "start_time": "2024-12-06T02:46:15.247Z"
   },
   {
    "duration": 4,
    "start_time": "2024-12-06T02:46:15.253Z"
   },
   {
    "duration": 11,
    "start_time": "2024-12-06T02:46:15.259Z"
   },
   {
    "duration": 196,
    "start_time": "2024-12-06T02:46:15.272Z"
   },
   {
    "duration": 960,
    "start_time": "2024-12-06T02:46:15.471Z"
   },
   {
    "duration": 2619,
    "start_time": "2024-12-06T02:46:16.433Z"
   },
   {
    "duration": 2,
    "start_time": "2024-12-06T02:46:19.055Z"
   },
   {
    "duration": 5,
    "start_time": "2024-12-06T02:46:19.060Z"
   },
   {
    "duration": 12,
    "start_time": "2024-12-06T02:46:19.067Z"
   },
   {
    "duration": 13,
    "start_time": "2024-12-06T02:46:19.081Z"
   },
   {
    "duration": 13,
    "start_time": "2024-12-06T02:46:19.096Z"
   },
   {
    "duration": 41,
    "start_time": "2024-12-06T02:46:19.111Z"
   },
   {
    "duration": 9,
    "start_time": "2024-12-06T02:46:19.154Z"
   },
   {
    "duration": 8,
    "start_time": "2024-12-06T02:46:19.165Z"
   },
   {
    "duration": 4,
    "start_time": "2024-12-06T02:46:19.175Z"
   },
   {
    "duration": 104,
    "start_time": "2024-12-06T02:46:19.182Z"
   },
   {
    "duration": 5,
    "start_time": "2024-12-06T02:46:19.291Z"
   },
   {
    "duration": 6,
    "start_time": "2024-12-06T02:46:19.298Z"
   },
   {
    "duration": 4,
    "start_time": "2024-12-06T02:46:19.305Z"
   },
   {
    "duration": 3,
    "start_time": "2024-12-06T02:46:19.310Z"
   },
   {
    "duration": 27,
    "start_time": "2024-12-06T02:46:19.315Z"
   },
   {
    "duration": 578,
    "start_time": "2024-12-06T02:46:19.344Z"
   },
   {
    "duration": 3,
    "start_time": "2024-12-06T02:46:19.923Z"
   },
   {
    "duration": 20,
    "start_time": "2024-12-06T02:46:19.928Z"
   },
   {
    "duration": 5,
    "start_time": "2024-12-06T02:46:19.950Z"
   },
   {
    "duration": 4,
    "start_time": "2024-12-06T02:46:19.956Z"
   },
   {
    "duration": 6,
    "start_time": "2024-12-06T02:46:19.962Z"
   },
   {
    "duration": 2,
    "start_time": "2024-12-06T02:46:19.970Z"
   },
   {
    "duration": 2,
    "start_time": "2024-12-06T02:46:19.974Z"
   },
   {
    "duration": 3,
    "start_time": "2024-12-06T02:46:19.978Z"
   },
   {
    "duration": 330,
    "start_time": "2024-12-06T02:59:01.549Z"
   },
   {
    "duration": 3,
    "start_time": "2024-12-06T02:59:07.759Z"
   },
   {
    "duration": 3,
    "start_time": "2024-12-06T02:59:09.280Z"
   },
   {
    "duration": 2,
    "start_time": "2024-12-06T03:00:26.643Z"
   },
   {
    "duration": 3,
    "start_time": "2024-12-06T03:02:32.626Z"
   },
   {
    "duration": 4,
    "start_time": "2024-12-06T03:02:44.018Z"
   },
   {
    "duration": 3,
    "start_time": "2024-12-06T03:05:27.311Z"
   },
   {
    "duration": 5,
    "start_time": "2024-12-06T03:05:49.528Z"
   },
   {
    "duration": 5,
    "start_time": "2024-12-06T03:24:11.148Z"
   },
   {
    "duration": 3,
    "start_time": "2024-12-06T03:42:59.055Z"
   },
   {
    "duration": 1070,
    "start_time": "2024-12-06T03:42:59.061Z"
   },
   {
    "duration": 15,
    "start_time": "2024-12-06T03:43:00.133Z"
   },
   {
    "duration": 3,
    "start_time": "2024-12-06T03:43:00.149Z"
   },
   {
    "duration": 13,
    "start_time": "2024-12-06T03:43:00.155Z"
   },
   {
    "duration": 8,
    "start_time": "2024-12-06T03:43:00.170Z"
   },
   {
    "duration": 3,
    "start_time": "2024-12-06T03:43:00.180Z"
   },
   {
    "duration": 8,
    "start_time": "2024-12-06T03:43:00.185Z"
   },
   {
    "duration": 5,
    "start_time": "2024-12-06T03:43:00.195Z"
   },
   {
    "duration": 41,
    "start_time": "2024-12-06T03:43:00.202Z"
   },
   {
    "duration": 2,
    "start_time": "2024-12-06T03:43:00.245Z"
   },
   {
    "duration": 4,
    "start_time": "2024-12-06T03:43:00.249Z"
   },
   {
    "duration": 5,
    "start_time": "2024-12-06T03:43:00.255Z"
   },
   {
    "duration": 4,
    "start_time": "2024-12-06T03:43:00.264Z"
   },
   {
    "duration": 11,
    "start_time": "2024-12-06T03:43:00.270Z"
   },
   {
    "duration": 207,
    "start_time": "2024-12-06T03:43:00.283Z"
   },
   {
    "duration": 969,
    "start_time": "2024-12-06T03:43:00.492Z"
   },
   {
    "duration": 2603,
    "start_time": "2024-12-06T03:43:01.463Z"
   },
   {
    "duration": 5,
    "start_time": "2024-12-06T03:43:04.069Z"
   },
   {
    "duration": 5,
    "start_time": "2024-12-06T03:43:04.075Z"
   },
   {
    "duration": 11,
    "start_time": "2024-12-06T03:43:04.082Z"
   },
   {
    "duration": 11,
    "start_time": "2024-12-06T03:43:04.094Z"
   },
   {
    "duration": 41,
    "start_time": "2024-12-06T03:43:04.106Z"
   },
   {
    "duration": 13,
    "start_time": "2024-12-06T03:43:04.149Z"
   },
   {
    "duration": 7,
    "start_time": "2024-12-06T03:43:04.164Z"
   },
   {
    "duration": 8,
    "start_time": "2024-12-06T03:43:04.172Z"
   },
   {
    "duration": 4,
    "start_time": "2024-12-06T03:43:04.182Z"
   },
   {
    "duration": 109,
    "start_time": "2024-12-06T03:43:04.188Z"
   },
   {
    "duration": 6,
    "start_time": "2024-12-06T03:43:04.299Z"
   },
   {
    "duration": 5,
    "start_time": "2024-12-06T03:43:04.307Z"
   },
   {
    "duration": 3,
    "start_time": "2024-12-06T03:43:04.314Z"
   },
   {
    "duration": 23,
    "start_time": "2024-12-06T03:43:04.320Z"
   },
   {
    "duration": 2,
    "start_time": "2024-12-06T03:43:04.345Z"
   },
   {
    "duration": 608,
    "start_time": "2024-12-06T03:43:04.349Z"
   },
   {
    "duration": 3,
    "start_time": "2024-12-06T03:43:04.959Z"
   },
   {
    "duration": 12,
    "start_time": "2024-12-06T03:43:04.964Z"
   },
   {
    "duration": 4,
    "start_time": "2024-12-06T03:43:04.978Z"
   },
   {
    "duration": 3,
    "start_time": "2024-12-06T03:43:04.983Z"
   },
   {
    "duration": 56,
    "start_time": "2024-12-06T03:43:04.987Z"
   },
   {
    "duration": 4,
    "start_time": "2024-12-06T03:43:05.044Z"
   },
   {
    "duration": 3,
    "start_time": "2024-12-06T03:43:05.053Z"
   },
   {
    "duration": 6,
    "start_time": "2024-12-06T03:43:05.058Z"
   },
   {
    "duration": 3,
    "start_time": "2024-12-06T03:43:05.142Z"
   },
   {
    "duration": 3,
    "start_time": "2024-12-06T03:43:05.147Z"
   },
   {
    "duration": 3,
    "start_time": "2024-12-06T03:43:05.152Z"
   },
   {
    "duration": 4,
    "start_time": "2024-12-06T03:43:05.156Z"
   },
   {
    "duration": 5,
    "start_time": "2024-12-06T03:43:05.162Z"
   },
   {
    "duration": 4,
    "start_time": "2024-12-06T18:01:29.291Z"
   },
   {
    "duration": 2727,
    "start_time": "2024-12-06T18:01:29.297Z"
   },
   {
    "duration": 14,
    "start_time": "2024-12-06T18:01:32.026Z"
   },
   {
    "duration": 3,
    "start_time": "2024-12-06T18:01:32.042Z"
   },
   {
    "duration": 13,
    "start_time": "2024-12-06T18:01:32.047Z"
   },
   {
    "duration": 9,
    "start_time": "2024-12-06T18:01:32.062Z"
   },
   {
    "duration": 3,
    "start_time": "2024-12-06T18:01:32.073Z"
   },
   {
    "duration": 8,
    "start_time": "2024-12-06T18:01:32.078Z"
   },
   {
    "duration": 4,
    "start_time": "2024-12-06T18:01:32.090Z"
   },
   {
    "duration": 2,
    "start_time": "2024-12-06T18:01:32.096Z"
   },
   {
    "duration": 44,
    "start_time": "2024-12-06T18:01:32.099Z"
   },
   {
    "duration": 5,
    "start_time": "2024-12-06T18:01:32.144Z"
   },
   {
    "duration": 5,
    "start_time": "2024-12-06T18:01:32.151Z"
   },
   {
    "duration": 4,
    "start_time": "2024-12-06T18:01:32.158Z"
   },
   {
    "duration": 13,
    "start_time": "2024-12-06T18:01:32.163Z"
   },
   {
    "duration": 193,
    "start_time": "2024-12-06T18:01:32.177Z"
   },
   {
    "duration": 1051,
    "start_time": "2024-12-06T18:01:32.372Z"
   },
   {
    "duration": 2568,
    "start_time": "2024-12-06T18:01:33.425Z"
   },
   {
    "duration": 3,
    "start_time": "2024-12-06T18:01:35.995Z"
   },
   {
    "duration": 5,
    "start_time": "2024-12-06T18:01:36.000Z"
   },
   {
    "duration": 12,
    "start_time": "2024-12-06T18:01:36.007Z"
   },
   {
    "duration": 32,
    "start_time": "2024-12-06T18:01:36.020Z"
   },
   {
    "duration": 11,
    "start_time": "2024-12-06T18:01:36.053Z"
   },
   {
    "duration": 10,
    "start_time": "2024-12-06T18:01:36.068Z"
   },
   {
    "duration": 8,
    "start_time": "2024-12-06T18:01:36.081Z"
   },
   {
    "duration": 9,
    "start_time": "2024-12-06T18:01:36.090Z"
   },
   {
    "duration": 4,
    "start_time": "2024-12-06T18:01:36.100Z"
   },
   {
    "duration": 114,
    "start_time": "2024-12-06T18:01:36.106Z"
   },
   {
    "duration": 6,
    "start_time": "2024-12-06T18:01:36.222Z"
   },
   {
    "duration": 17,
    "start_time": "2024-12-06T18:01:36.229Z"
   },
   {
    "duration": 3,
    "start_time": "2024-12-06T18:01:36.248Z"
   },
   {
    "duration": 3,
    "start_time": "2024-12-06T18:01:36.252Z"
   },
   {
    "duration": 2,
    "start_time": "2024-12-06T18:01:36.257Z"
   },
   {
    "duration": 639,
    "start_time": "2024-12-06T18:01:36.260Z"
   },
   {
    "duration": 2,
    "start_time": "2024-12-06T18:01:36.901Z"
   },
   {
    "duration": 13,
    "start_time": "2024-12-06T18:01:36.905Z"
   },
   {
    "duration": 4,
    "start_time": "2024-12-06T18:01:36.919Z"
   },
   {
    "duration": 20,
    "start_time": "2024-12-06T18:01:36.925Z"
   },
   {
    "duration": 13,
    "start_time": "2024-12-06T18:01:36.946Z"
   },
   {
    "duration": 3,
    "start_time": "2024-12-06T18:01:36.961Z"
   },
   {
    "duration": 3,
    "start_time": "2024-12-06T18:01:36.966Z"
   },
   {
    "duration": 3,
    "start_time": "2024-12-06T18:01:36.970Z"
   },
   {
    "duration": 3,
    "start_time": "2024-12-06T18:01:37.043Z"
   },
   {
    "duration": 3,
    "start_time": "2024-12-06T18:01:37.048Z"
   },
   {
    "duration": 2,
    "start_time": "2024-12-06T18:01:37.053Z"
   },
   {
    "duration": 3,
    "start_time": "2024-12-06T18:01:37.057Z"
   },
   {
    "duration": 7,
    "start_time": "2024-12-06T18:01:37.062Z"
   },
   {
    "duration": 3,
    "start_time": "2024-12-06T23:19:36.741Z"
   },
   {
    "duration": 2668,
    "start_time": "2024-12-06T23:19:36.746Z"
   },
   {
    "duration": 15,
    "start_time": "2024-12-06T23:19:39.417Z"
   },
   {
    "duration": 3,
    "start_time": "2024-12-06T23:19:39.433Z"
   },
   {
    "duration": 13,
    "start_time": "2024-12-06T23:19:39.439Z"
   },
   {
    "duration": 8,
    "start_time": "2024-12-06T23:19:39.454Z"
   },
   {
    "duration": 3,
    "start_time": "2024-12-06T23:19:39.464Z"
   },
   {
    "duration": 7,
    "start_time": "2024-12-06T23:19:39.468Z"
   },
   {
    "duration": 4,
    "start_time": "2024-12-06T23:19:39.477Z"
   },
   {
    "duration": 29,
    "start_time": "2024-12-06T23:19:39.483Z"
   },
   {
    "duration": 2,
    "start_time": "2024-12-06T23:19:39.515Z"
   },
   {
    "duration": 6,
    "start_time": "2024-12-06T23:19:39.518Z"
   },
   {
    "duration": 4,
    "start_time": "2024-12-06T23:19:39.525Z"
   },
   {
    "duration": 4,
    "start_time": "2024-12-06T23:19:39.531Z"
   },
   {
    "duration": 13,
    "start_time": "2024-12-06T23:19:39.536Z"
   },
   {
    "duration": 198,
    "start_time": "2024-12-06T23:19:39.550Z"
   },
   {
    "duration": 942,
    "start_time": "2024-12-06T23:19:39.750Z"
   },
   {
    "duration": 2574,
    "start_time": "2024-12-06T23:19:40.694Z"
   },
   {
    "duration": 3,
    "start_time": "2024-12-06T23:19:43.270Z"
   },
   {
    "duration": 5,
    "start_time": "2024-12-06T23:19:43.275Z"
   },
   {
    "duration": 12,
    "start_time": "2024-12-06T23:19:43.281Z"
   },
   {
    "duration": 26,
    "start_time": "2024-12-06T23:19:43.294Z"
   },
   {
    "duration": 10,
    "start_time": "2024-12-06T23:19:43.321Z"
   },
   {
    "duration": 9,
    "start_time": "2024-12-06T23:19:43.333Z"
   },
   {
    "duration": 8,
    "start_time": "2024-12-06T23:19:43.344Z"
   },
   {
    "duration": 7,
    "start_time": "2024-12-06T23:19:43.353Z"
   },
   {
    "duration": 4,
    "start_time": "2024-12-06T23:19:43.362Z"
   },
   {
    "duration": 114,
    "start_time": "2024-12-06T23:19:43.368Z"
   },
   {
    "duration": 5,
    "start_time": "2024-12-06T23:19:43.486Z"
   },
   {
    "duration": 19,
    "start_time": "2024-12-06T23:19:43.493Z"
   },
   {
    "duration": 3,
    "start_time": "2024-12-06T23:19:43.513Z"
   },
   {
    "duration": 3,
    "start_time": "2024-12-06T23:19:43.518Z"
   },
   {
    "duration": 2,
    "start_time": "2024-12-06T23:19:43.523Z"
   },
   {
    "duration": 597,
    "start_time": "2024-12-06T23:19:43.527Z"
   },
   {
    "duration": 3,
    "start_time": "2024-12-06T23:19:44.126Z"
   },
   {
    "duration": 12,
    "start_time": "2024-12-06T23:19:44.131Z"
   },
   {
    "duration": 5,
    "start_time": "2024-12-06T23:19:44.144Z"
   },
   {
    "duration": 3,
    "start_time": "2024-12-06T23:19:44.151Z"
   },
   {
    "duration": 57,
    "start_time": "2024-12-06T23:19:44.155Z"
   },
   {
    "duration": 4,
    "start_time": "2024-12-06T23:19:44.214Z"
   },
   {
    "duration": 2,
    "start_time": "2024-12-06T23:19:44.220Z"
   },
   {
    "duration": 3,
    "start_time": "2024-12-06T23:19:44.224Z"
   },
   {
    "duration": 4,
    "start_time": "2024-12-06T23:19:44.228Z"
   },
   {
    "duration": 79,
    "start_time": "2024-12-06T23:19:44.233Z"
   },
   {
    "duration": 3,
    "start_time": "2024-12-06T23:19:44.313Z"
   },
   {
    "duration": 3,
    "start_time": "2024-12-06T23:19:44.318Z"
   },
   {
    "duration": 5,
    "start_time": "2024-12-06T23:19:44.322Z"
   },
   {
    "duration": 235,
    "start_time": "2024-12-06T23:25:02.940Z"
   },
   {
    "duration": 11,
    "start_time": "2024-12-06T23:25:08.077Z"
   },
   {
    "duration": 3,
    "start_time": "2024-12-06T23:38:40.888Z"
   },
   {
    "duration": 982,
    "start_time": "2024-12-06T23:38:40.893Z"
   },
   {
    "duration": 8,
    "start_time": "2024-12-06T23:38:41.877Z"
   },
   {
    "duration": 4,
    "start_time": "2024-12-06T23:38:41.886Z"
   },
   {
    "duration": 21,
    "start_time": "2024-12-06T23:38:41.893Z"
   },
   {
    "duration": 10,
    "start_time": "2024-12-06T23:38:41.915Z"
   },
   {
    "duration": 3,
    "start_time": "2024-12-06T23:38:41.926Z"
   },
   {
    "duration": 8,
    "start_time": "2024-12-06T23:38:41.930Z"
   },
   {
    "duration": 5,
    "start_time": "2024-12-06T23:38:41.940Z"
   },
   {
    "duration": 5,
    "start_time": "2024-12-06T23:38:41.947Z"
   },
   {
    "duration": 5,
    "start_time": "2024-12-06T23:38:41.955Z"
   },
   {
    "duration": 4,
    "start_time": "2024-12-06T23:38:41.963Z"
   },
   {
    "duration": 12,
    "start_time": "2024-12-06T23:38:42.011Z"
   },
   {
    "duration": 174,
    "start_time": "2024-12-06T23:38:42.024Z"
   },
   {
    "duration": 952,
    "start_time": "2024-12-06T23:38:42.200Z"
   },
   {
    "duration": 2529,
    "start_time": "2024-12-06T23:38:43.154Z"
   },
   {
    "duration": 2,
    "start_time": "2024-12-06T23:38:45.685Z"
   },
   {
    "duration": 5,
    "start_time": "2024-12-06T23:38:45.689Z"
   },
   {
    "duration": 22,
    "start_time": "2024-12-06T23:38:45.695Z"
   },
   {
    "duration": 8,
    "start_time": "2024-12-06T23:38:45.718Z"
   },
   {
    "duration": 11,
    "start_time": "2024-12-06T23:38:45.728Z"
   },
   {
    "duration": 11,
    "start_time": "2024-12-06T23:38:45.740Z"
   },
   {
    "duration": 10,
    "start_time": "2024-12-06T23:38:45.752Z"
   },
   {
    "duration": 10,
    "start_time": "2024-12-06T23:38:45.763Z"
   },
   {
    "duration": 4,
    "start_time": "2024-12-06T23:38:45.775Z"
   },
   {
    "duration": 78,
    "start_time": "2024-12-06T23:38:45.812Z"
   },
   {
    "duration": 21,
    "start_time": "2024-12-06T23:38:45.892Z"
   },
   {
    "duration": 6,
    "start_time": "2024-12-06T23:38:45.914Z"
   },
   {
    "duration": 2,
    "start_time": "2024-12-06T23:38:45.925Z"
   },
   {
    "duration": 3,
    "start_time": "2024-12-06T23:38:45.929Z"
   },
   {
    "duration": 3,
    "start_time": "2024-12-06T23:38:45.933Z"
   },
   {
    "duration": 641,
    "start_time": "2024-12-06T23:38:45.937Z"
   },
   {
    "duration": 2,
    "start_time": "2024-12-06T23:38:46.580Z"
   },
   {
    "duration": 12,
    "start_time": "2024-12-06T23:38:46.584Z"
   },
   {
    "duration": 16,
    "start_time": "2024-12-06T23:38:46.597Z"
   },
   {
    "duration": 3,
    "start_time": "2024-12-06T23:38:46.615Z"
   },
   {
    "duration": 7,
    "start_time": "2024-12-06T23:38:46.619Z"
   },
   {
    "duration": 3,
    "start_time": "2024-12-06T23:38:46.627Z"
   },
   {
    "duration": 3,
    "start_time": "2024-12-06T23:38:46.632Z"
   },
   {
    "duration": 3,
    "start_time": "2024-12-06T23:38:46.637Z"
   },
   {
    "duration": 72,
    "start_time": "2024-12-06T23:38:46.641Z"
   },
   {
    "duration": 4,
    "start_time": "2024-12-06T23:38:46.714Z"
   },
   {
    "duration": 3,
    "start_time": "2024-12-06T23:38:46.719Z"
   },
   {
    "duration": 3,
    "start_time": "2024-12-06T23:38:46.723Z"
   },
   {
    "duration": 84,
    "start_time": "2024-12-06T23:38:46.728Z"
   },
   {
    "duration": 466,
    "start_time": "2024-12-06T23:52:36.353Z"
   },
   {
    "duration": 2,
    "start_time": "2024-12-06T23:52:51.951Z"
   },
   {
    "duration": 977,
    "start_time": "2024-12-06T23:52:51.955Z"
   },
   {
    "duration": 8,
    "start_time": "2024-12-06T23:52:52.933Z"
   },
   {
    "duration": 3,
    "start_time": "2024-12-06T23:52:52.942Z"
   },
   {
    "duration": 13,
    "start_time": "2024-12-06T23:52:52.947Z"
   },
   {
    "duration": 9,
    "start_time": "2024-12-06T23:52:52.962Z"
   },
   {
    "duration": 3,
    "start_time": "2024-12-06T23:52:52.972Z"
   },
   {
    "duration": 34,
    "start_time": "2024-12-06T23:52:52.977Z"
   },
   {
    "duration": 5,
    "start_time": "2024-12-06T23:52:53.015Z"
   },
   {
    "duration": 5,
    "start_time": "2024-12-06T23:52:53.022Z"
   },
   {
    "duration": 4,
    "start_time": "2024-12-06T23:52:53.029Z"
   },
   {
    "duration": 4,
    "start_time": "2024-12-06T23:52:53.035Z"
   },
   {
    "duration": 11,
    "start_time": "2024-12-06T23:52:53.041Z"
   },
   {
    "duration": 210,
    "start_time": "2024-12-06T23:52:53.053Z"
   },
   {
    "duration": 923,
    "start_time": "2024-12-06T23:52:53.265Z"
   },
   {
    "duration": 2500,
    "start_time": "2024-12-06T23:52:54.190Z"
   },
   {
    "duration": 3,
    "start_time": "2024-12-06T23:52:56.692Z"
   },
   {
    "duration": 16,
    "start_time": "2024-12-06T23:52:56.696Z"
   },
   {
    "duration": 8,
    "start_time": "2024-12-06T23:52:56.714Z"
   },
   {
    "duration": 8,
    "start_time": "2024-12-06T23:52:56.724Z"
   },
   {
    "duration": 10,
    "start_time": "2024-12-06T23:52:56.734Z"
   },
   {
    "duration": 10,
    "start_time": "2024-12-06T23:52:56.746Z"
   },
   {
    "duration": 10,
    "start_time": "2024-12-06T23:52:56.757Z"
   },
   {
    "duration": 43,
    "start_time": "2024-12-06T23:52:56.772Z"
   },
   {
    "duration": 4,
    "start_time": "2024-12-06T23:52:56.817Z"
   },
   {
    "duration": 93,
    "start_time": "2024-12-06T23:52:56.823Z"
   },
   {
    "duration": 4,
    "start_time": "2024-12-06T23:52:56.918Z"
   },
   {
    "duration": 5,
    "start_time": "2024-12-06T23:52:56.924Z"
   },
   {
    "duration": 3,
    "start_time": "2024-12-06T23:52:56.931Z"
   },
   {
    "duration": 2,
    "start_time": "2024-12-06T23:52:56.936Z"
   },
   {
    "duration": 619,
    "start_time": "2024-12-06T23:52:56.940Z"
   },
   {
    "duration": 3,
    "start_time": "2024-12-06T23:52:57.562Z"
   },
   {
    "duration": 12,
    "start_time": "2024-12-06T23:52:57.566Z"
   },
   {
    "duration": 4,
    "start_time": "2024-12-06T23:52:57.579Z"
   },
   {
    "duration": 3,
    "start_time": "2024-12-06T23:52:57.584Z"
   },
   {
    "duration": 31,
    "start_time": "2024-12-06T23:52:57.589Z"
   },
   {
    "duration": 3,
    "start_time": "2024-12-06T23:52:57.623Z"
   },
   {
    "duration": 2,
    "start_time": "2024-12-06T23:52:57.629Z"
   },
   {
    "duration": 3,
    "start_time": "2024-12-06T23:52:57.633Z"
   },
   {
    "duration": 3,
    "start_time": "2024-12-06T23:52:57.638Z"
   },
   {
    "duration": 4,
    "start_time": "2024-12-06T23:52:57.713Z"
   },
   {
    "duration": 4,
    "start_time": "2024-12-06T23:52:57.718Z"
   },
   {
    "duration": 5,
    "start_time": "2024-12-06T23:52:57.723Z"
   },
   {
    "duration": 8,
    "start_time": "2024-12-06T23:52:57.731Z"
   },
   {
    "duration": 444,
    "start_time": "2024-12-07T00:07:55.218Z"
   },
   {
    "duration": 56,
    "start_time": "2024-12-07T00:08:01.167Z"
   },
   {
    "duration": 2,
    "start_time": "2024-12-07T00:08:11.524Z"
   },
   {
    "duration": 1051,
    "start_time": "2024-12-07T00:08:11.528Z"
   },
   {
    "duration": 7,
    "start_time": "2024-12-07T00:08:12.581Z"
   },
   {
    "duration": 3,
    "start_time": "2024-12-07T00:08:12.591Z"
   },
   {
    "duration": 22,
    "start_time": "2024-12-07T00:08:12.596Z"
   },
   {
    "duration": 9,
    "start_time": "2024-12-07T00:08:12.620Z"
   },
   {
    "duration": 3,
    "start_time": "2024-12-07T00:08:12.631Z"
   },
   {
    "duration": 8,
    "start_time": "2024-12-07T00:08:12.635Z"
   },
   {
    "duration": 4,
    "start_time": "2024-12-07T00:08:12.646Z"
   },
   {
    "duration": 4,
    "start_time": "2024-12-07T00:08:12.652Z"
   },
   {
    "duration": 5,
    "start_time": "2024-12-07T00:08:12.658Z"
   },
   {
    "duration": 5,
    "start_time": "2024-12-07T00:08:12.664Z"
   },
   {
    "duration": 52,
    "start_time": "2024-12-07T00:08:12.670Z"
   },
   {
    "duration": 179,
    "start_time": "2024-12-07T00:08:12.724Z"
   },
   {
    "duration": 953,
    "start_time": "2024-12-07T00:08:12.912Z"
   },
   {
    "duration": 2503,
    "start_time": "2024-12-07T00:08:13.866Z"
   },
   {
    "duration": 2,
    "start_time": "2024-12-07T00:08:16.371Z"
   },
   {
    "duration": 5,
    "start_time": "2024-12-07T00:08:16.375Z"
   },
   {
    "duration": 8,
    "start_time": "2024-12-07T00:08:16.382Z"
   },
   {
    "duration": 27,
    "start_time": "2024-12-07T00:08:16.391Z"
   },
   {
    "duration": 10,
    "start_time": "2024-12-07T00:08:16.419Z"
   },
   {
    "duration": 12,
    "start_time": "2024-12-07T00:08:16.431Z"
   },
   {
    "duration": 12,
    "start_time": "2024-12-07T00:08:16.444Z"
   },
   {
    "duration": 10,
    "start_time": "2024-12-07T00:08:16.461Z"
   },
   {
    "duration": 4,
    "start_time": "2024-12-07T00:08:16.472Z"
   },
   {
    "duration": 110,
    "start_time": "2024-12-07T00:08:16.478Z"
   },
   {
    "duration": 5,
    "start_time": "2024-12-07T00:08:16.589Z"
   },
   {
    "duration": 17,
    "start_time": "2024-12-07T00:08:16.596Z"
   },
   {
    "duration": 3,
    "start_time": "2024-12-07T00:08:16.614Z"
   },
   {
    "duration": 3,
    "start_time": "2024-12-07T00:08:16.618Z"
   },
   {
    "duration": 613,
    "start_time": "2024-12-07T00:08:16.623Z"
   },
   {
    "duration": 7,
    "start_time": "2024-12-07T00:08:17.237Z"
   },
   {
    "duration": 16,
    "start_time": "2024-12-07T00:08:17.246Z"
   },
   {
    "duration": 4,
    "start_time": "2024-12-07T00:08:17.264Z"
   },
   {
    "duration": 3,
    "start_time": "2024-12-07T00:08:17.271Z"
   },
   {
    "duration": 39,
    "start_time": "2024-12-07T00:08:17.277Z"
   },
   {
    "duration": 3,
    "start_time": "2024-12-07T00:08:17.318Z"
   },
   {
    "duration": 3,
    "start_time": "2024-12-07T00:08:17.323Z"
   },
   {
    "duration": 3,
    "start_time": "2024-12-07T00:08:17.327Z"
   },
   {
    "duration": 2,
    "start_time": "2024-12-07T00:08:17.331Z"
   },
   {
    "duration": 78,
    "start_time": "2024-12-07T00:08:17.335Z"
   },
   {
    "duration": 3,
    "start_time": "2024-12-07T00:08:17.415Z"
   },
   {
    "duration": 3,
    "start_time": "2024-12-07T00:08:17.419Z"
   },
   {
    "duration": 5,
    "start_time": "2024-12-07T00:08:17.424Z"
   },
   {
    "duration": 10,
    "start_time": "2024-12-07T01:25:05.529Z"
   },
   {
    "duration": 235,
    "start_time": "2024-12-07T01:25:37.336Z"
   },
   {
    "duration": 29,
    "start_time": "2024-12-07T01:25:52.152Z"
   },
   {
    "duration": 3,
    "start_time": "2024-12-07T01:27:25.108Z"
   },
   {
    "duration": 975,
    "start_time": "2024-12-07T01:27:25.116Z"
   },
   {
    "duration": 7,
    "start_time": "2024-12-07T01:27:26.093Z"
   },
   {
    "duration": 3,
    "start_time": "2024-12-07T01:27:26.102Z"
   },
   {
    "duration": 14,
    "start_time": "2024-12-07T01:27:26.112Z"
   },
   {
    "duration": 9,
    "start_time": "2024-12-07T01:27:26.127Z"
   },
   {
    "duration": 3,
    "start_time": "2024-12-07T01:27:26.138Z"
   },
   {
    "duration": 8,
    "start_time": "2024-12-07T01:27:26.142Z"
   },
   {
    "duration": 5,
    "start_time": "2024-12-07T01:27:26.152Z"
   },
   {
    "duration": 5,
    "start_time": "2024-12-07T01:27:26.159Z"
   },
   {
    "duration": 4,
    "start_time": "2024-12-07T01:27:26.165Z"
   },
   {
    "duration": 43,
    "start_time": "2024-12-07T01:27:26.171Z"
   },
   {
    "duration": 12,
    "start_time": "2024-12-07T01:27:26.216Z"
   },
   {
    "duration": 183,
    "start_time": "2024-12-07T01:27:26.230Z"
   },
   {
    "duration": 938,
    "start_time": "2024-12-07T01:27:26.414Z"
   },
   {
    "duration": 2464,
    "start_time": "2024-12-07T01:27:27.354Z"
   },
   {
    "duration": 2,
    "start_time": "2024-12-07T01:27:29.820Z"
   },
   {
    "duration": 4,
    "start_time": "2024-12-07T01:27:29.824Z"
   },
   {
    "duration": 9,
    "start_time": "2024-12-07T01:27:29.830Z"
   },
   {
    "duration": 7,
    "start_time": "2024-12-07T01:27:29.841Z"
   },
   {
    "duration": 10,
    "start_time": "2024-12-07T01:27:29.850Z"
   },
   {
    "duration": 10,
    "start_time": "2024-12-07T01:27:29.862Z"
   },
   {
    "duration": 47,
    "start_time": "2024-12-07T01:27:29.873Z"
   },
   {
    "duration": 10,
    "start_time": "2024-12-07T01:27:29.924Z"
   },
   {
    "duration": 5,
    "start_time": "2024-12-07T01:27:29.935Z"
   },
   {
    "duration": 101,
    "start_time": "2024-12-07T01:27:29.941Z"
   },
   {
    "duration": 5,
    "start_time": "2024-12-07T01:27:30.044Z"
   },
   {
    "duration": 5,
    "start_time": "2024-12-07T01:27:30.051Z"
   },
   {
    "duration": 3,
    "start_time": "2024-12-07T01:27:30.057Z"
   },
   {
    "duration": 3,
    "start_time": "2024-12-07T01:27:30.061Z"
   },
   {
    "duration": 609,
    "start_time": "2024-12-07T01:27:30.066Z"
   },
   {
    "duration": 3,
    "start_time": "2024-12-07T01:27:30.677Z"
   },
   {
    "duration": 11,
    "start_time": "2024-12-07T01:27:30.682Z"
   },
   {
    "duration": 4,
    "start_time": "2024-12-07T01:27:30.695Z"
   },
   {
    "duration": 4,
    "start_time": "2024-12-07T01:27:30.711Z"
   },
   {
    "duration": 7,
    "start_time": "2024-12-07T01:27:30.717Z"
   },
   {
    "duration": 3,
    "start_time": "2024-12-07T01:27:30.725Z"
   },
   {
    "duration": 4,
    "start_time": "2024-12-07T01:27:30.729Z"
   },
   {
    "duration": 4,
    "start_time": "2024-12-07T01:27:30.735Z"
   },
   {
    "duration": 72,
    "start_time": "2024-12-07T01:27:30.740Z"
   },
   {
    "duration": 3,
    "start_time": "2024-12-07T01:27:30.814Z"
   },
   {
    "duration": 2,
    "start_time": "2024-12-07T01:27:30.820Z"
   },
   {
    "duration": 3,
    "start_time": "2024-12-07T01:27:30.824Z"
   },
   {
    "duration": 5,
    "start_time": "2024-12-07T01:27:30.829Z"
   },
   {
    "duration": 451,
    "start_time": "2024-12-07T01:27:30.836Z"
   },
   {
    "duration": 25,
    "start_time": "2024-12-07T01:47:14.225Z"
   },
   {
    "duration": 3,
    "start_time": "2024-12-07T01:48:07.662Z"
   },
   {
    "duration": 1003,
    "start_time": "2024-12-07T01:48:07.667Z"
   },
   {
    "duration": 8,
    "start_time": "2024-12-07T01:48:08.672Z"
   },
   {
    "duration": 3,
    "start_time": "2024-12-07T01:48:08.681Z"
   },
   {
    "duration": 25,
    "start_time": "2024-12-07T01:48:08.687Z"
   },
   {
    "duration": 9,
    "start_time": "2024-12-07T01:48:08.714Z"
   },
   {
    "duration": 3,
    "start_time": "2024-12-07T01:48:08.724Z"
   },
   {
    "duration": 8,
    "start_time": "2024-12-07T01:48:08.729Z"
   },
   {
    "duration": 5,
    "start_time": "2024-12-07T01:48:08.738Z"
   },
   {
    "duration": 5,
    "start_time": "2024-12-07T01:48:08.744Z"
   },
   {
    "duration": 4,
    "start_time": "2024-12-07T01:48:08.753Z"
   },
   {
    "duration": 4,
    "start_time": "2024-12-07T01:48:08.759Z"
   },
   {
    "duration": 55,
    "start_time": "2024-12-07T01:48:08.765Z"
   },
   {
    "duration": 173,
    "start_time": "2024-12-07T01:48:08.822Z"
   },
   {
    "duration": 1000,
    "start_time": "2024-12-07T01:48:08.996Z"
   },
   {
    "duration": 2537,
    "start_time": "2024-12-07T01:48:09.998Z"
   },
   {
    "duration": 2,
    "start_time": "2024-12-07T01:48:12.537Z"
   },
   {
    "duration": 4,
    "start_time": "2024-12-07T01:48:12.541Z"
   },
   {
    "duration": 8,
    "start_time": "2024-12-07T01:48:12.547Z"
   },
   {
    "duration": 8,
    "start_time": "2024-12-07T01:48:12.556Z"
   },
   {
    "duration": 11,
    "start_time": "2024-12-07T01:48:12.565Z"
   },
   {
    "duration": 41,
    "start_time": "2024-12-07T01:48:12.577Z"
   },
   {
    "duration": 10,
    "start_time": "2024-12-07T01:48:12.619Z"
   },
   {
    "duration": 11,
    "start_time": "2024-12-07T01:48:12.630Z"
   },
   {
    "duration": 4,
    "start_time": "2024-12-07T01:48:12.643Z"
   },
   {
    "duration": 98,
    "start_time": "2024-12-07T01:48:12.649Z"
   },
   {
    "duration": 4,
    "start_time": "2024-12-07T01:48:12.749Z"
   },
   {
    "duration": 5,
    "start_time": "2024-12-07T01:48:12.755Z"
   },
   {
    "duration": 3,
    "start_time": "2024-12-07T01:48:12.763Z"
   },
   {
    "duration": 3,
    "start_time": "2024-12-07T01:48:12.768Z"
   },
   {
    "duration": 596,
    "start_time": "2024-12-07T01:48:12.772Z"
   },
   {
    "duration": 3,
    "start_time": "2024-12-07T01:48:13.370Z"
   },
   {
    "duration": 12,
    "start_time": "2024-12-07T01:48:13.374Z"
   },
   {
    "duration": 4,
    "start_time": "2024-12-07T01:48:13.387Z"
   },
   {
    "duration": 19,
    "start_time": "2024-12-07T01:48:13.393Z"
   },
   {
    "duration": 6,
    "start_time": "2024-12-07T01:48:13.414Z"
   },
   {
    "duration": 3,
    "start_time": "2024-12-07T01:48:13.421Z"
   },
   {
    "duration": 3,
    "start_time": "2024-12-07T01:48:13.426Z"
   },
   {
    "duration": 2,
    "start_time": "2024-12-07T01:48:13.431Z"
   },
   {
    "duration": 2,
    "start_time": "2024-12-07T01:48:13.435Z"
   },
   {
    "duration": 74,
    "start_time": "2024-12-07T01:48:13.439Z"
   },
   {
    "duration": 2,
    "start_time": "2024-12-07T01:48:13.515Z"
   },
   {
    "duration": 9,
    "start_time": "2024-12-07T01:48:13.519Z"
   },
   {
    "duration": 5,
    "start_time": "2024-12-07T01:48:13.530Z"
   },
   {
    "duration": 438,
    "start_time": "2024-12-07T01:48:13.537Z"
   },
   {
    "duration": 7,
    "start_time": "2024-12-07T01:49:44.096Z"
   },
   {
    "duration": 7,
    "start_time": "2024-12-07T01:50:02.294Z"
   },
   {
    "duration": 10,
    "start_time": "2024-12-07T01:50:48.745Z"
   },
   {
    "duration": 31,
    "start_time": "2024-12-07T01:51:01.223Z"
   },
   {
    "duration": 31,
    "start_time": "2024-12-07T01:51:49.086Z"
   },
   {
    "duration": 33,
    "start_time": "2024-12-07T01:52:04.083Z"
   },
   {
    "duration": 32,
    "start_time": "2024-12-07T01:52:20.040Z"
   },
   {
    "duration": 40,
    "start_time": "2024-12-07T01:52:32.830Z"
   },
   {
    "duration": 3,
    "start_time": "2024-12-07T01:53:49.091Z"
   },
   {
    "duration": 3,
    "start_time": "2024-12-07T01:53:55.592Z"
   },
   {
    "duration": 996,
    "start_time": "2024-12-07T01:53:55.597Z"
   },
   {
    "duration": 7,
    "start_time": "2024-12-07T01:53:56.596Z"
   },
   {
    "duration": 8,
    "start_time": "2024-12-07T01:53:56.604Z"
   },
   {
    "duration": 14,
    "start_time": "2024-12-07T01:53:56.614Z"
   },
   {
    "duration": 8,
    "start_time": "2024-12-07T01:53:56.630Z"
   },
   {
    "duration": 3,
    "start_time": "2024-12-07T01:53:56.640Z"
   },
   {
    "duration": 7,
    "start_time": "2024-12-07T01:53:56.645Z"
   },
   {
    "duration": 5,
    "start_time": "2024-12-07T01:53:56.654Z"
   },
   {
    "duration": 5,
    "start_time": "2024-12-07T01:53:56.662Z"
   },
   {
    "duration": 44,
    "start_time": "2024-12-07T01:53:56.668Z"
   },
   {
    "duration": 5,
    "start_time": "2024-12-07T01:53:56.714Z"
   },
   {
    "duration": 12,
    "start_time": "2024-12-07T01:53:56.720Z"
   },
   {
    "duration": 183,
    "start_time": "2024-12-07T01:53:56.733Z"
   },
   {
    "duration": 928,
    "start_time": "2024-12-07T01:53:56.920Z"
   },
   {
    "duration": 2469,
    "start_time": "2024-12-07T01:53:57.850Z"
   },
   {
    "duration": 2,
    "start_time": "2024-12-07T01:54:00.322Z"
   },
   {
    "duration": 5,
    "start_time": "2024-12-07T01:54:00.325Z"
   },
   {
    "duration": 9,
    "start_time": "2024-12-07T01:54:00.331Z"
   },
   {
    "duration": 8,
    "start_time": "2024-12-07T01:54:00.341Z"
   },
   {
    "duration": 11,
    "start_time": "2024-12-07T01:54:00.350Z"
   },
   {
    "duration": 12,
    "start_time": "2024-12-07T01:54:00.363Z"
   },
   {
    "duration": 43,
    "start_time": "2024-12-07T01:54:00.377Z"
   },
   {
    "duration": 10,
    "start_time": "2024-12-07T01:54:00.422Z"
   },
   {
    "duration": 4,
    "start_time": "2024-12-07T01:54:00.434Z"
   },
   {
    "duration": 99,
    "start_time": "2024-12-07T01:54:00.439Z"
   },
   {
    "duration": 4,
    "start_time": "2024-12-07T01:54:00.540Z"
   },
   {
    "duration": 5,
    "start_time": "2024-12-07T01:54:00.546Z"
   },
   {
    "duration": 3,
    "start_time": "2024-12-07T01:54:00.553Z"
   },
   {
    "duration": 2,
    "start_time": "2024-12-07T01:54:00.558Z"
   },
   {
    "duration": 669,
    "start_time": "2024-12-07T01:54:00.562Z"
   },
   {
    "duration": 3,
    "start_time": "2024-12-07T01:54:01.233Z"
   },
   {
    "duration": 12,
    "start_time": "2024-12-07T01:54:01.238Z"
   },
   {
    "duration": 4,
    "start_time": "2024-12-07T01:54:01.251Z"
   },
   {
    "duration": 3,
    "start_time": "2024-12-07T01:54:01.256Z"
   },
   {
    "duration": 51,
    "start_time": "2024-12-07T01:54:01.261Z"
   },
   {
    "duration": 6,
    "start_time": "2024-12-07T01:54:01.314Z"
   },
   {
    "duration": 3,
    "start_time": "2024-12-07T01:54:01.321Z"
   },
   {
    "duration": 3,
    "start_time": "2024-12-07T01:54:01.325Z"
   },
   {
    "duration": 3,
    "start_time": "2024-12-07T01:54:01.329Z"
   },
   {
    "duration": 80,
    "start_time": "2024-12-07T01:54:01.334Z"
   },
   {
    "duration": 2,
    "start_time": "2024-12-07T01:54:01.418Z"
   },
   {
    "duration": 4,
    "start_time": "2024-12-07T01:54:01.422Z"
   },
   {
    "duration": 7,
    "start_time": "2024-12-07T01:54:01.429Z"
   },
   {
    "duration": 453,
    "start_time": "2024-12-07T01:54:01.439Z"
   },
   {
    "duration": 12,
    "start_time": "2024-12-07T01:54:16.355Z"
   }
  ],
  "kernelspec": {
   "display_name": "Python 3 (ipykernel)",
   "language": "python",
   "name": "python3"
  },
  "language_info": {
   "codemirror_mode": {
    "name": "ipython",
    "version": 3
   },
   "file_extension": ".py",
   "mimetype": "text/x-python",
   "name": "python",
   "nbconvert_exporter": "python",
   "pygments_lexer": "ipython3",
   "version": "3.11.7"
  },
  "toc": {
   "base_numbering": 1,
   "nav_menu": {},
   "number_sections": true,
   "sideBar": true,
   "skip_h1_title": true,
   "title_cell": "Table of Contents",
   "title_sidebar": "Contents",
   "toc_cell": false,
   "toc_position": {},
   "toc_section_display": true,
   "toc_window_display": false
  }
 },
 "nbformat": 4,
 "nbformat_minor": 4
}
